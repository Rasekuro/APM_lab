{
 "cells": [
  {
   "cell_type": "markdown",
   "id": "f976419c-5d36-48ca-9e0c-f6e7455a17f1",
   "metadata": {},
   "source": [
    "# Lipid fingerprint analysis"
   ]
  },
  {
   "cell_type": "markdown",
   "id": "0c2ee13c-0ab5-4b46-b71c-6cc79aa86792",
   "metadata": {},
   "source": [
    "This script analyzes membrane-protein or membrane-peptide MD trajectories and studies the protein-lipid interactions, including:\n",
    "\n",
    "- Density maps --> GROMACS densmap of lipids in the XY plane\n",
    "\n",
    "- DE index --> MDAnalysis of the depletion-enrichment index\n",
    "\n",
    "- Occupancy --> % time a residue has been in contact w/ an specific lipid (headgroup)\n",
    "\n",
    "- Residence time --> PyLipid analysis of theaverage residence time of a given lipid (headgroup)\n",
    "\n",
    "- Pocket prediction --> prediction of pockets, residence times, occupancies, etc\n"
   ]
  },
  {
   "cell_type": "markdown",
   "id": "cce54626-f1c6-4c3a-9deb-7a8a0c24c15b",
   "metadata": {
    "tags": []
   },
   "source": [
    "## Import modules"
   ]
  },
  {
   "cell_type": "code",
   "execution_count": 44,
   "id": "079f2165-ea34-44d6-8924-66ccc486bb0f",
   "metadata": {
    "scrolled": true
   },
   "outputs": [],
   "source": [
    "import numpy as np\n",
    "import matplotlib.pyplot as plt\n",
    "import glob, os\n",
    "import pandas as pd\n",
    "import seaborn as sns\n",
    "import re\n",
    "from scipy.ndimage.filters import gaussian_filter\n",
    "from mpl_toolkits.axes_grid1 import make_axes_locatable\n",
    "import mdtraj\n",
    "import MDAnalysis as mda\n",
    "from MDAnalysis.analysis.density import DensityAnalysis\n",
    "import lipyphilic\n",
    "from lipyphilic.lib.area_per_lipid import AreaPerLipid\n",
    "from lipyphilic.lib.memb_thickness import MembThickness\n",
    "from lipyphilic.lib.assign_leaflets import AssignLeaflets\n",
    "import pylipid\n",
    "from pylipid.api import LipidInteraction"
   ]
  },
  {
   "cell_type": "markdown",
   "id": "141a0f79-07ac-4eae-8a59-50e57703481e",
   "metadata": {},
   "source": [
    "# Create folders"
   ]
  },
  {
   "cell_type": "code",
   "execution_count": 2,
   "id": "cd23bcba-1a04-49c0-9383-950a988e7d7a",
   "metadata": {},
   "outputs": [
    {
     "name": "stdout",
     "output_type": "stream",
     "text": [
      "Can't create folder: folder Analysis already exists\n"
     ]
    }
   ],
   "source": [
    "try:\n",
    "    os.mkdir(\"Analysis\")\n",
    "    print(\"Folder Analysis created\")\n",
    "except OSError as error:\n",
    "    print(\"Can't create folder: folder Analysis already exists\")"
   ]
  },
  {
   "cell_type": "markdown",
   "id": "efb976ee-2382-4805-8b0e-db20f4dcf98d",
   "metadata": {},
   "source": [
    "### 1.- Assign variables"
   ]
  },
  {
   "cell_type": "code",
   "execution_count": 3,
   "id": "32eaec90-cf9d-415f-9356-b1ff529dc12c",
   "metadata": {},
   "outputs": [],
   "source": [
    "traj_file = '../Sample_files/centered_step7_1.xtc' #Trajectory filename\n",
    "top_file = '../Sample_files/step6.6_equilibration.gro' #Topology filename\n",
    "in_memory = True #Load all trajectory to the memory?\n",
    "memory_step = 10 #Memory step to load if in_memory=True\n",
    "\n",
    "lipid_list = [\"POPC\", \"POPS\", \"POSM\", \"POPE\", \"POPI\"] #List of lipids to check for\n",
    "\n",
    "contact_cutoff = 5.5 #Assign a cutoff value for the contacts \n",
    "target = \"protein\" #Assign target to calculate contacts\n",
    "\n",
    "window = 10 #Window size for the sliding window averages"
   ]
  },
  {
   "cell_type": "markdown",
   "id": "4ff5d543-6280-4b65-bef0-163f0ecd88de",
   "metadata": {},
   "source": [
    "### 2.- Load trajectory and preparations"
   ]
  },
  {
   "cell_type": "code",
   "execution_count": 4,
   "id": "471712c2-d7c2-4ed1-a4a6-280a320edfb6",
   "metadata": {},
   "outputs": [
    {
     "name": "stderr",
     "output_type": "stream",
     "text": [
      "/home/apmlab/anaconda3/lib/python3.9/site-packages/MDAnalysis/topology/guessers.py:146: UserWarning: Failed to guess the mass for the following atom types: A\n",
      "  warnings.warn(\"Failed to guess the mass for the following atom types: {}\".format(atom_type))\n",
      "/home/apmlab/anaconda3/lib/python3.9/site-packages/MDAnalysis/topology/guessers.py:146: UserWarning: Failed to guess the mass for the following atom types: D\n",
      "  warnings.warn(\"Failed to guess the mass for the following atom types: {}\".format(atom_type))\n",
      "/home/apmlab/anaconda3/lib/python3.9/site-packages/MDAnalysis/topology/guessers.py:146: UserWarning: Failed to guess the mass for the following atom types: G\n",
      "  warnings.warn(\"Failed to guess the mass for the following atom types: {}\".format(atom_type))\n",
      "/home/apmlab/anaconda3/lib/python3.9/site-packages/MDAnalysis/topology/guessers.py:146: UserWarning: Failed to guess the mass for the following atom types: T\n",
      "  warnings.warn(\"Failed to guess the mass for the following atom types: {}\".format(atom_type))\n"
     ]
    },
    {
     "name": "stdout",
     "output_type": "stream",
     "text": [
      "Loaded trajectory: <Universe with 32181 atoms>\n",
      "Number of frames: 1001\n"
     ]
    }
   ],
   "source": [
    "#Load trajectory as MDA universe object\n",
    "u = mda.Universe(top_file, traj_file, in_memory=in_memory, in_memory_step=memory_step)\n",
    "\n",
    "#Store times from each frame of the trajectory\n",
    "times = [ts.time for ts in u.trajectory]\n",
    "\n",
    "print(\"Loaded trajectory: {}\".format(u))\n",
    "print(\"Number of frames: {}\".format(len(u.trajectory)))\n"
   ]
  },
  {
   "cell_type": "markdown",
   "id": "7f600ecd-5619-494f-a02c-7d52b7aeb3d8",
   "metadata": {},
   "source": [
    "### 3.- Generate density maps"
   ]
  },
  {
   "cell_type": "code",
   "execution_count": 5,
   "id": "a3458fd3-32a3-4c1c-85e7-3dc533683c9e",
   "metadata": {},
   "outputs": [
    {
     "name": "stdout",
     "output_type": "stream",
     "text": [
      "Can't create folder: folder Densmaps already exists\n"
     ]
    }
   ],
   "source": [
    "try:\n",
    "    os.mkdir(\"Analysis/Densmaps\")\n",
    "    print(\"Folder Densmaps created\")\n",
    "except OSError as error:\n",
    "    print(\"Can't create folder: folder Densmaps already exists\")"
   ]
  },
  {
   "cell_type": "code",
   "execution_count": 6,
   "id": "9991718e-21a5-4cb9-a50f-283f3e303b4e",
   "metadata": {},
   "outputs": [
    {
     "name": "stderr",
     "output_type": "stream",
     "text": [
      "                      :-) GROMACS - gmx densmap, 2022 (-:\n",
      "\n",
      "Executable:   /usr/local/gromacs/bin/gmx\n",
      "Data prefix:  /usr/local/gromacs\n",
      "Working dir:  /home/apmlab/Projectes/mario/Script_devel/Analysis_scripts\n",
      "Command line:\n",
      "  gmx densmap -f ../Sample_files/centered_step7_1.xtc -s ../Sample_files/step6.6_equilibration.gro -od ./Analysis/Densmaps/POPC_densmap.dat\n",
      "\n",
      "\n",
      "Select an analysis group\n",
      "Group     0 (         System) has 32181 elements\n",
      "Group     1 (        Protein) has  3357 elements\n",
      "Group     2 (      Protein-H) has  3357 elements\n",
      "Group     3 (        C-alpha) has     0 elements\n",
      "Group     4 (       Backbone) has     0 elements\n",
      "Group     5 (      MainChain) has     0 elements\n",
      "Group     6 (   MainChain+Cb) has     0 elements\n",
      "Group     7 (    MainChain+H) has     0 elements\n",
      "Group     8 (      SideChain) has  3357 elements\n",
      "Group     9 (    SideChain-H) has  3357 elements\n",
      "Group    10 (    Prot-Masses) has  3357 elements\n",
      "Group    11 (    non-Protein) has 28824 elements\n",
      "Group    12 (          Other) has 28824 elements\n",
      "Group    13 (           POSM) has  1177 elements\n",
      "Group    14 (           POPC) has  3300 elements\n",
      "Group    15 (           POPE) has  1548 elements\n",
      "Group    16 (           POPS) has   552 elements\n",
      "Group    17 (           POPI) has   630 elements\n",
      "Group    18 (              W) has 21044 elements\n",
      "Group    19 (            ION) has   573 elements\n",
      "Last frame      10000 time 10000000.000   \n",
      "\n",
      "Back Off! I just backed up ./Analysis/Densmaps/POPC_densmap.dat to ./Analysis/Densmaps/#POPC_densmap.dat.3#\n",
      "\n",
      "GROMACS reminds you: \"Safety lights are for dudes\" (Ghostbusters 2016)\n",
      "\n",
      "                      :-) GROMACS - gmx densmap, 2022 (-:\n",
      "\n",
      "Executable:   /usr/local/gromacs/bin/gmx\n",
      "Data prefix:  /usr/local/gromacs\n",
      "Working dir:  /home/apmlab/Projectes/mario/Script_devel/Analysis_scripts\n",
      "Command line:\n",
      "  gmx densmap -f ../Sample_files/centered_step7_1.xtc -s ../Sample_files/step6.6_equilibration.gro -od ./Analysis/Densmaps/POPS_densmap.dat\n",
      "\n",
      "\n",
      "Select an analysis group\n",
      "Group     0 (         System) has 32181 elements\n",
      "Group     1 (        Protein) has  3357 elements\n",
      "Group     2 (      Protein-H) has  3357 elements\n",
      "Group     3 (        C-alpha) has     0 elements\n",
      "Group     4 (       Backbone) has     0 elements\n",
      "Group     5 (      MainChain) has     0 elements\n",
      "Group     6 (   MainChain+Cb) has     0 elements\n",
      "Group     7 (    MainChain+H) has     0 elements\n",
      "Group     8 (      SideChain) has  3357 elements\n",
      "Group     9 (    SideChain-H) has  3357 elements\n",
      "Group    10 (    Prot-Masses) has  3357 elements\n",
      "Group    11 (    non-Protein) has 28824 elements\n",
      "Group    12 (          Other) has 28824 elements\n",
      "Group    13 (           POSM) has  1177 elements\n",
      "Group    14 (           POPC) has  3300 elements\n",
      "Group    15 (           POPE) has  1548 elements\n",
      "Group    16 (           POPS) has   552 elements\n",
      "Group    17 (           POPI) has   630 elements\n",
      "Group    18 (              W) has 21044 elements\n",
      "Group    19 (            ION) has   573 elements\n",
      "Reading frame      30 time 30000.000   "
     ]
    },
    {
     "name": "stdout",
     "output_type": "stream",
     "text": [
      "Selected 14: 'POPC'\n",
      "\n",
      "  The maximum density is 1.656562 (nm^-3)\n"
     ]
    },
    {
     "name": "stderr",
     "output_type": "stream",
     "text": [
      "Last frame      10000 time 10000000.000   \n",
      "\n",
      "Back Off! I just backed up ./Analysis/Densmaps/POPS_densmap.dat to ./Analysis/Densmaps/#POPS_densmap.dat.2#\n",
      "\n",
      "GROMACS reminds you: \"Beware of bugs in the above code; I have only proved it correct, not tried it.\" (Donald Knuth)\n",
      "\n",
      "                      :-) GROMACS - gmx densmap, 2022 (-:\n",
      "\n",
      "Executable:   /usr/local/gromacs/bin/gmx\n",
      "Data prefix:  /usr/local/gromacs\n",
      "Working dir:  /home/apmlab/Projectes/mario/Script_devel/Analysis_scripts\n",
      "Command line:\n",
      "  gmx densmap -f ../Sample_files/centered_step7_1.xtc -s ../Sample_files/step6.6_equilibration.gro -od ./Analysis/Densmaps/POSM_densmap.dat\n",
      "\n",
      "\n",
      "Select an analysis group\n",
      "Group     0 (         System) has 32181 elements\n",
      "Group     1 (        Protein) has  3357 elements\n",
      "Group     2 (      Protein-H) has  3357 elements\n",
      "Group     3 (        C-alpha) has     0 elements\n",
      "Group     4 (       Backbone) has     0 elements\n",
      "Group     5 (      MainChain) has     0 elements\n",
      "Group     6 (   MainChain+Cb) has     0 elements\n",
      "Group     7 (    MainChain+H) has     0 elements\n",
      "Group     8 (      SideChain) has  3357 elements\n",
      "Group     9 (    SideChain-H) has  3357 elements\n",
      "Group    10 (    Prot-Masses) has  3357 elements\n",
      "Group    11 (    non-Protein) has 28824 elements\n",
      "Group    12 (          Other) has 28824 elements\n",
      "Group    13 (           POSM) has  1177 elements\n",
      "Group    14 (           POPC) has  3300 elements\n",
      "Group    15 (           POPE) has  1548 elements\n",
      "Group    16 (           POPS) has   552 elements\n",
      "Group    17 (           POPI) has   630 elements\n",
      "Group    18 (              W) has 21044 elements\n",
      "Group    19 (            ION) has   573 elements\n",
      "Reading frame      30 time 30000.000   "
     ]
    },
    {
     "name": "stdout",
     "output_type": "stream",
     "text": [
      "Selected 16: 'POPS'\n",
      "\n",
      "  The maximum density is 0.461200 (nm^-3)\n"
     ]
    },
    {
     "name": "stderr",
     "output_type": "stream",
     "text": [
      "Last frame      10000 time 10000000.000   \n",
      "\n",
      "Back Off! I just backed up ./Analysis/Densmaps/POSM_densmap.dat to ./Analysis/Densmaps/#POSM_densmap.dat.2#\n",
      "\n",
      "GROMACS reminds you: \"It's So Fast It's Slow\" (F. Black)\n",
      "\n",
      "                      :-) GROMACS - gmx densmap, 2022 (-:\n",
      "\n",
      "Executable:   /usr/local/gromacs/bin/gmx\n",
      "Data prefix:  /usr/local/gromacs\n",
      "Working dir:  /home/apmlab/Projectes/mario/Script_devel/Analysis_scripts\n",
      "Command line:\n",
      "  gmx densmap -f ../Sample_files/centered_step7_1.xtc -s ../Sample_files/step6.6_equilibration.gro -od ./Analysis/Densmaps/POPE_densmap.dat\n",
      "\n",
      "\n",
      "Select an analysis group\n",
      "Group     0 (         System) has 32181 elements\n",
      "Group     1 (        Protein) has  3357 elements\n",
      "Group     2 (      Protein-H) has  3357 elements\n",
      "Group     3 (        C-alpha) has     0 elements\n",
      "Group     4 (       Backbone) has     0 elements\n",
      "Group     5 (      MainChain) has     0 elements\n",
      "Group     6 (   MainChain+Cb) has     0 elements\n",
      "Group     7 (    MainChain+H) has     0 elements\n",
      "Group     8 (      SideChain) has  3357 elements\n",
      "Group     9 (    SideChain-H) has  3357 elements\n",
      "Group    10 (    Prot-Masses) has  3357 elements\n",
      "Group    11 (    non-Protein) has 28824 elements\n",
      "Group    12 (          Other) has 28824 elements\n",
      "Group    13 (           POSM) has  1177 elements\n",
      "Group    14 (           POPC) has  3300 elements\n",
      "Group    15 (           POPE) has  1548 elements\n",
      "Group    16 (           POPS) has   552 elements\n",
      "Group    17 (           POPI) has   630 elements\n",
      "Group    18 (              W) has 21044 elements\n",
      "Group    19 (            ION) has   573 elements\n",
      "Reading frame      30 time 30000.000   "
     ]
    },
    {
     "name": "stdout",
     "output_type": "stream",
     "text": [
      "Selected 13: 'POSM'\n",
      "\n",
      "  The maximum density is 0.806971 (nm^-3)\n"
     ]
    },
    {
     "name": "stderr",
     "output_type": "stream",
     "text": [
      "Last frame      10000 time 10000000.000   \n",
      "\n",
      "Back Off! I just backed up ./Analysis/Densmaps/POPE_densmap.dat to ./Analysis/Densmaps/#POPE_densmap.dat.2#\n",
      "\n",
      "GROMACS reminds you: \"In the End Science Comes Down to Praying\" (P. v.d. Berg)\n",
      "\n",
      "                      :-) GROMACS - gmx densmap, 2022 (-:\n",
      "\n",
      "Executable:   /usr/local/gromacs/bin/gmx\n",
      "Data prefix:  /usr/local/gromacs\n",
      "Working dir:  /home/apmlab/Projectes/mario/Script_devel/Analysis_scripts\n",
      "Command line:\n",
      "  gmx densmap -f ../Sample_files/centered_step7_1.xtc -s ../Sample_files/step6.6_equilibration.gro -od ./Analysis/Densmaps/POPI_densmap.dat\n",
      "\n",
      "\n",
      "Select an analysis group\n",
      "Group     0 (         System) has 32181 elements\n",
      "Group     1 (        Protein) has  3357 elements\n",
      "Group     2 (      Protein-H) has  3357 elements\n",
      "Group     3 (        C-alpha) has     0 elements\n",
      "Group     4 (       Backbone) has     0 elements\n",
      "Group     5 (      MainChain) has     0 elements\n",
      "Group     6 (   MainChain+Cb) has     0 elements\n",
      "Group     7 (    MainChain+H) has     0 elements\n",
      "Group     8 (      SideChain) has  3357 elements\n",
      "Group     9 (    SideChain-H) has  3357 elements\n",
      "Group    10 (    Prot-Masses) has  3357 elements\n",
      "Group    11 (    non-Protein) has 28824 elements\n",
      "Group    12 (          Other) has 28824 elements\n",
      "Group    13 (           POSM) has  1177 elements\n",
      "Group    14 (           POPC) has  3300 elements\n",
      "Group    15 (           POPE) has  1548 elements\n",
      "Group    16 (           POPS) has   552 elements\n",
      "Group    17 (           POPI) has   630 elements\n",
      "Group    18 (              W) has 21044 elements\n",
      "Group    19 (            ION) has   573 elements\n",
      "Reading frame      20 time 20000.000   "
     ]
    },
    {
     "name": "stdout",
     "output_type": "stream",
     "text": [
      "Selected 15: 'POPE'\n",
      "\n",
      "  The maximum density is 0.950690 (nm^-3)\n"
     ]
    },
    {
     "name": "stderr",
     "output_type": "stream",
     "text": [
      "Reading frame    9000 time 9000000.000   "
     ]
    },
    {
     "name": "stdout",
     "output_type": "stream",
     "text": [
      "Selected 17: 'POPI'\n",
      "\n",
      "  The maximum density is 0.893377 (nm^-3)\n"
     ]
    },
    {
     "name": "stderr",
     "output_type": "stream",
     "text": [
      "\r\n",
      "Reading frame   10000 time 10000000.000   \r\n",
      "Last frame      10000 time 10000000.000   \n",
      "\n",
      "Back Off! I just backed up ./Analysis/Densmaps/POPI_densmap.dat to ./Analysis/Densmaps/#POPI_densmap.dat.3#\n",
      "\n",
      "GROMACS reminds you: \"Occams Razor is the scientific principle that, all things being equal, the simplest explanation is always the dog ate my homework.\" (Greg Tamblyn)\n",
      "\n"
     ]
    }
   ],
   "source": [
    "for lipid in lipid_list:\n",
    "    densmap = f'echo {lipid}| gmx densmap -f {traj_file} -s {top_file} -od ./Analysis/Densmaps/{lipid}_densmap.dat'\n",
    "    os.system(densmap)"
   ]
  },
  {
   "cell_type": "code",
   "execution_count": 5,
   "id": "ab5b6f2f",
   "metadata": {},
   "outputs": [
    {
     "name": "stdout",
     "output_type": "stream",
     "text": [
      "Plotting density map of POPC\n",
      "Plotting density map of POPS\n",
      "Plotting density map of POSM\n",
      "Plotting density map of POPE\n",
      "Plotting density map of POPI\n"
     ]
    },
    {
     "data": {
      "text/plain": [
       "<Figure size 360x360 with 0 Axes>"
      ]
     },
     "metadata": {},
     "output_type": "display_data"
    },
    {
     "data": {
      "text/plain": [
       "<Figure size 360x360 with 0 Axes>"
      ]
     },
     "metadata": {},
     "output_type": "display_data"
    },
    {
     "data": {
      "text/plain": [
       "<Figure size 360x360 with 0 Axes>"
      ]
     },
     "metadata": {},
     "output_type": "display_data"
    },
    {
     "data": {
      "text/plain": [
       "<Figure size 360x360 with 0 Axes>"
      ]
     },
     "metadata": {},
     "output_type": "display_data"
    },
    {
     "data": {
      "text/plain": [
       "<Figure size 360x360 with 0 Axes>"
      ]
     },
     "metadata": {},
     "output_type": "display_data"
    }
   ],
   "source": [
    "#Define colors for each lipid\n",
    "color_map = {\"tein\": \"gray\", \"POPI\": \"Blues\", \"POPS\": \"Reds\",\n",
    "             \"POSM\": \"Purples\", \"POPE\": \"copper_r\", \"POPC\": \"pink_r\"}\n",
    "\n",
    "#CALCULATE OVER THE MEAN [] of each lipid in the membrane?\n",
    "\n",
    "for densmap in glob.glob(\"./Analysis/Densmaps/*.dat\"):\n",
    "    print('Plotting density map of ' + densmap[20:24])\n",
    "    data = pd.read_csv(densmap, sep='\\t', index_col=0)\n",
    "    data = data.dropna(axis=1)\n",
    "\n",
    "    data.index = [round(x) for x in data.index]\n",
    "    data.columns = [round(float(x)) for x in data.columns]\n",
    "    \n",
    "    #Get min and max value of dataset\n",
    "    max_val = data.max().max()\n",
    "    min_val = data.min().min()\n",
    "    \n",
    "    #Create subplot and divide to operate heatmap and cbar separately more easily (cbar size = heatmap)\n",
    "    fig, ax = plt.subplots(figsize=(5, 5))\n",
    "    divider = make_axes_locatable(ax)\n",
    "\n",
    "    cbar_ax = divider.new_vertical(size=\"5%\", pad=0.2, pack_start=True)\n",
    "    fig.add_axes(cbar_ax)\n",
    "    \n",
    "    #Create heatmap, put cbar in bottom, ensure it has aquare shape\n",
    "    ax = sns.heatmap(data, ax=ax, cmap=color_map[densmap[-16:-12]], cbar_ax=cbar_ax, vmin=round(min_val,1), vmax=round(max_val,1),\n",
    "                     cbar_kws={\"orientation\": \"horizontal\",\"ticks\":[round(min_val,1),round(max_val,1)]}, square=True)\n",
    "    ax.set(xticks=[], yticks=[])\n",
    "    ax.tick_params(bottom=False, top=False)  # remove the ticks\n",
    "    ax.set_aspect(\"equal\") #Set aspect squared\n",
    "    \n",
    "    # Drawing the frame (border) to hea tmap\n",
    "    for _, spine in ax.spines.items():\n",
    "        spine.set_visible(True)\n",
    "        spine.set_linewidth(3)\n",
    "       \n",
    "    #Get cbar and put border, its size, remove ticks, set text size    \n",
    "    cbar = ax.collections[0].colorbar\n",
    "    cbar.set_label(\"$\\mathbf{nm^{-3}}$\", labelpad=-13, size=23, weight=\"bold\")\n",
    "    cbar.ax.tick_params(labelsize=22, length=0, pad=10)\n",
    "    cbar.ax.set_frame_on(True)\n",
    "               \n",
    "    for _, spine in cbar.ax.spines.items():\n",
    "        spine.set_visible(True)\n",
    "        spine.set_linewidth(3)                 \n",
    "\n",
    "               \n",
    "    plt.xticks(weight = 'bold') #Only cbar xticks, so we can set all bold\n",
    "        \n",
    "    #Save figure\n",
    "    ax.get_figure()\n",
    "    plt.savefig(f\"{densmap[:-4]}.tiff\", transparent=True, dpi=800)\n",
    "    plt.clf()"
   ]
  },
  {
   "cell_type": "markdown",
   "id": "9aef3cb5",
   "metadata": {},
   "source": [
    "## 4.- Calculate average membrane thickness"
   ]
  },
  {
   "cell_type": "markdown",
   "id": "46751346",
   "metadata": {},
   "source": [
    "### 4.1 Overall membrane thickness per frame"
   ]
  },
  {
   "cell_type": "code",
   "execution_count": 12,
   "id": "db89268e",
   "metadata": {},
   "outputs": [
    {
     "name": "stdout",
     "output_type": "stream",
     "text": [
      "Can't create folder: folder Memb_thickness already exists\n"
     ]
    }
   ],
   "source": [
    "try:\n",
    "    os.mkdir(\"Analysis/Memb_thickness\")\n",
    "    print(\"Folder Memb_thickness created\")\n",
    "except OSError as error:\n",
    "    print(\"Can't create folder: folder Memb_thickness already exists\")"
   ]
  },
  {
   "cell_type": "code",
   "execution_count": 7,
   "id": "76461c0c",
   "metadata": {},
   "outputs": [
    {
     "name": "stdout",
     "output_type": "stream",
     "text": [
      "{'POPI', 'POPE', 'POPC', 'POPS', 'POSM'}\n"
     ]
    },
    {
     "name": "stderr",
     "output_type": "stream",
     "text": [
      "100%|██████████| 1001/1001 [00:01<00:00, 818.14it/s]\n"
     ]
    },
    {
     "data": {
      "text/plain": [
       "<lipyphilic.lib.memb_thickness.MembThickness at 0x7fe3e46847f0>"
      ]
     },
     "execution_count": 7,
     "metadata": {},
     "output_type": "execute_result"
    }
   ],
   "source": [
    "#First assign leaflets \n",
    "leaflets = AssignLeaflets(\n",
    "  universe=u,\n",
    "  lipid_sel=\"name AM1 AM2 GL1 GL2 ROH\" # assuming we are using the MARTINI forcefield\n",
    ")\n",
    "leaflets.run()\n",
    "\n",
    "lipid_set_noCHOL = set(lipid_list) - set(\"CHOL\")\n",
    "print(lipid_set_noCHOL)\n",
    "\n",
    "#Determine overall thickness per frame\n",
    "memb_thickness = MembThickness(\n",
    "    universe=u,\n",
    "    leaflets=leaflets.filter_leaflets(f\"resname {' '.join(lipid_set_noCHOL)}\"),  # exclude cholesterol from thickness calculation\n",
    "    lipid_sel= f\"resname {' '.join(lipid_set_noCHOL)} and name PO4\" #Use PO4 to PO4 distance for thickness\n",
    ")\n",
    "\n",
    "memb_thickness.run(\n",
    "  start=None,\n",
    "  stop=None,\n",
    "  step=None,\n",
    "  verbose=True\n",
    ")"
   ]
  },
  {
   "cell_type": "code",
   "execution_count": 25,
   "id": "6d825654",
   "metadata": {},
   "outputs": [
    {
     "name": "stderr",
     "output_type": "stream",
     "text": [
      "/tmp/ipykernel_911972/1658550413.py:11: MatplotlibDeprecationWarning: The seaborn styles shipped by Matplotlib are deprecated since 3.6, as they no longer correspond to the styles shipped by seaborn. However, they will remain available as 'seaborn-v0_8-<style>'. Alternatively, directly use the seaborn API instead.\n",
      "  plt.style.use('seaborn-colorblind')  ####### Style for the plots (defined one to keep same style accross ALL plots ########\n"
     ]
    },
    {
     "data": {
      "text/plain": [
       "<Figure size 432x288 with 0 Axes>"
      ]
     },
     "metadata": {},
     "output_type": "display_data"
    }
   ],
   "source": [
    "#Calculate average mbr thickness over sliding window\n",
    "mbr_thickness_avg = [None for n in range(window)]\n",
    "avgs = [np.mean(memb_thickness.memb_thickness[(n-window):n]) for n in range((window+1),(window + 1 + len(memb_thickness.memb_thickness[window:])))] #Calculate avgs\n",
    "mbr_thickness_avg.extend(avgs)\n",
    "\n",
    "#Convert to df\n",
    "data_for_df = {'Memb_thickness':memb_thickness.memb_thickness, 'Avg_memb_thickness':mbr_thickness_avg}\n",
    "df = pd.DataFrame(index=times, data=data_for_df)\n",
    "\n",
    "#Plot membrane thickness\n",
    "plt.style.use('seaborn-colorblind')  ####### Style for the plots (defined one to keep same style accross ALL plots ########\n",
    "sns_lipid = sns.lineplot(x=df.index, y='Memb_thickness', data=df)  # Plot term over time\n",
    "sns_lipid = sns.lineplot(x=df.index, y='Avg_memb_thickness', data=df) #Plot avg thickness\n",
    "sns_lipid.set_xlabel('Time (ps)')\n",
    "y_ax_label = 'Membrane thickness (nm)'  # get y axis name based on term being plotted\n",
    "sns_lipid.set_ylabel(y_ax_label)  # Change y axis label\n",
    "fig = sns_lipid.get_figure()  # Get figure\n",
    "output_name = './Analysis/Memb_thickness/membrane_thickness_avg_per_frame.png'\n",
    "fig.savefig(output_name)  # Save graph in folder\n",
    "plt.clf()\n",
    "\n",
    "#Save data as df\n",
    "filename = './Analysis/Memb_thickness/membrane_thickness_avg_per_frame.csv'\n",
    "df.to_csv(filename)"
   ]
  },
  {
   "cell_type": "markdown",
   "id": "d4301d26",
   "metadata": {},
   "source": [
    "### 4.2 Local membrane thickness calculation"
   ]
  },
  {
   "cell_type": "code",
   "execution_count": 37,
   "id": "06b5775e",
   "metadata": {},
   "outputs": [
    {
     "name": "stdout",
     "output_type": "stream",
     "text": [
      "[67.55252323 68.66363434 69.77474546 70.88585657 71.99696768 73.10807879\n",
      " 74.2191899  75.33030101 76.44141212 77.55252323]\n",
      "[66.72476239 67.55252323]\n"
     ]
    },
    {
     "ename": "TypeError",
     "evalue": "No universe, or universe-containing object passed to the initialization of AtomGroup",
     "output_type": "error",
     "traceback": [
      "\u001b[0;31m---------------------------------------------------------------------------\u001b[0m",
      "\u001b[0;31mTypeError\u001b[0m                                 Traceback (most recent call last)",
      "\u001b[0;32m/tmp/ipykernel_16212/65015649.py\u001b[0m in \u001b[0;36m<module>\u001b[0;34m\u001b[0m\n\u001b[1;32m     19\u001b[0m         \u001b[0mprint\u001b[0m\u001b[0;34m(\u001b[0m\u001b[0mpoint\u001b[0m\u001b[0;34m)\u001b[0m\u001b[0;34m\u001b[0m\u001b[0;34m\u001b[0m\u001b[0m\n\u001b[1;32m     20\u001b[0m         \u001b[0;31m# select lipids within a cutoff of 0.5 nm\u001b[0m\u001b[0;34m\u001b[0m\u001b[0;34m\u001b[0m\u001b[0m\n\u001b[0;32m---> 21\u001b[0;31m         \u001b[0msel\u001b[0m \u001b[0;34m=\u001b[0m \u001b[0mlipids\u001b[0m\u001b[0;34m.\u001b[0m\u001b[0mselect_atoms\u001b[0m\u001b[0;34m(\u001b[0m\u001b[0;34m'around 0.5 point'\u001b[0m\u001b[0;34m,\u001b[0m \u001b[0mpoint\u001b[0m\u001b[0;34m=\u001b[0m\u001b[0mmda\u001b[0m\u001b[0;34m.\u001b[0m\u001b[0mAtomGroup\u001b[0m\u001b[0;34m(\u001b[0m\u001b[0mpoint\u001b[0m\u001b[0;34m)\u001b[0m\u001b[0;34m)\u001b[0m\u001b[0;34m\u001b[0m\u001b[0;34m\u001b[0m\u001b[0m\n\u001b[0m\u001b[1;32m     22\u001b[0m         \u001b[0;31m# compute the average z-coordinate of the selected lipids\u001b[0m\u001b[0;34m\u001b[0m\u001b[0;34m\u001b[0m\u001b[0m\n\u001b[1;32m     23\u001b[0m         \u001b[0mavg_z\u001b[0m \u001b[0;34m=\u001b[0m \u001b[0mnp\u001b[0m\u001b[0;34m.\u001b[0m\u001b[0mmean\u001b[0m\u001b[0;34m(\u001b[0m\u001b[0msel\u001b[0m\u001b[0;34m.\u001b[0m\u001b[0mpositions\u001b[0m\u001b[0;34m[\u001b[0m\u001b[0;34m:\u001b[0m\u001b[0;34m,\u001b[0m \u001b[0;36m2\u001b[0m\u001b[0;34m]\u001b[0m\u001b[0;34m)\u001b[0m\u001b[0;34m\u001b[0m\u001b[0;34m\u001b[0m\u001b[0m\n",
      "\u001b[0;32m~/anaconda3/lib/python3.9/site-packages/MDAnalysis/core/groups.py\u001b[0m in \u001b[0;36m__new__\u001b[0;34m(cls, *args, **kwargs)\u001b[0m\n\u001b[1;32m    329\u001b[0m                         \u001b[0;34mf\"No universe, or universe-containing object \"\u001b[0m\u001b[0;34m\u001b[0m\u001b[0;34m\u001b[0m\u001b[0m\n\u001b[1;32m    330\u001b[0m                         f\"passed to the initialization of {cls.__name__}\")\n\u001b[0;32m--> 331\u001b[0;31m                     \u001b[0;32mraise\u001b[0m \u001b[0mTypeError\u001b[0m\u001b[0;34m(\u001b[0m\u001b[0merrmsg\u001b[0m\u001b[0;34m)\u001b[0m \u001b[0;32mfrom\u001b[0m \u001b[0;32mNone\u001b[0m\u001b[0;34m\u001b[0m\u001b[0;34m\u001b[0m\u001b[0m\n\u001b[0m\u001b[1;32m    332\u001b[0m         \u001b[0;32mtry\u001b[0m\u001b[0;34m:\u001b[0m\u001b[0;34m\u001b[0m\u001b[0;34m\u001b[0m\u001b[0m\n\u001b[1;32m    333\u001b[0m             \u001b[0;32mreturn\u001b[0m \u001b[0mobject\u001b[0m\u001b[0;34m.\u001b[0m\u001b[0m__new__\u001b[0m\u001b[0;34m(\u001b[0m\u001b[0mu\u001b[0m\u001b[0;34m.\u001b[0m\u001b[0m_classes\u001b[0m\u001b[0;34m[\u001b[0m\u001b[0mcls\u001b[0m\u001b[0;34m]\u001b[0m\u001b[0;34m)\u001b[0m\u001b[0;34m\u001b[0m\u001b[0;34m\u001b[0m\u001b[0m\n",
      "\u001b[0;31mTypeError\u001b[0m: No universe, or universe-containing object passed to the initialization of AtomGroup"
     ]
    }
   ],
   "source": []
  },
  {
   "cell_type": "code",
   "execution_count": 22,
   "id": "edf32abb",
   "metadata": {},
   "outputs": [
    {
     "name": "stdout",
     "output_type": "stream",
     "text": [
      "<Density density with (167, 165, 72) bins>\n"
     ]
    },
    {
     "name": "stderr",
     "output_type": "stream",
     "text": [
      "/home/apmlab/anaconda3/lib/python3.9/site-packages/MDAnalysis/analysis/density.py:497: DeprecationWarning: The `density` attribute was deprecated in MDAnalysis 2.0.0 and will be removed in MDAnalysis 3.0.0. Please use `results.density` instead\n",
      "  warnings.warn(wmsg, DeprecationWarning)\n"
     ]
    }
   ],
   "source": [
    "print(dens.density)"
   ]
  },
  {
   "cell_type": "markdown",
   "id": "374c51ff",
   "metadata": {},
   "source": [
    "## 5.- Calculate APL"
   ]
  },
  {
   "cell_type": "code",
   "execution_count": 30,
   "id": "31aa7b0f",
   "metadata": {},
   "outputs": [
    {
     "data": {
      "application/vnd.jupyter.widget-view+json": {
       "model_id": "db986aae6def4e7098f06c825eb3a283",
       "version_major": 2,
       "version_minor": 0
      },
      "text/plain": [
       "  0%|          | 0/1001 [00:00<?, ?it/s]"
      ]
     },
     "metadata": {},
     "output_type": "display_data"
    },
    {
     "data": {
      "text/plain": [
       "array([[ 78.08574486,  89.56125541,  71.78617098, ...,  46.10061399,\n",
       "         65.40614736,  60.7730861 ],\n",
       "       [ 66.52627686, 102.20163254,  81.51327871, ...,  53.04753003,\n",
       "         80.48184413,  59.2036968 ],\n",
       "       [ 49.35191802, 174.59212471, 159.1161145 , ...,  42.61175425,\n",
       "         83.34926635,  58.99578696],\n",
       "       ...,\n",
       "       [ 64.5987028 ,  52.97322205,  57.1407385 , ...,  52.0418672 ,\n",
       "         80.96358182,  54.1673949 ],\n",
       "       [ 34.41319683,  68.58039907,  52.23826105, ...,  43.02451654,\n",
       "         60.55287738,  78.73146005],\n",
       "       [ 83.65989206,  57.30486995,  54.6368958 , ...,  73.37532885,\n",
       "         61.52091511,  76.1537314 ]])"
      ]
     },
     "execution_count": 30,
     "metadata": {},
     "output_type": "execute_result"
    }
   ],
   "source": [
    "upper_areas = AreaPerLipid(\n",
    "  universe=u,\n",
    "  lipid_sel=\"name AM1 AM2 GL1 GL2 ROH\",  # assuming we're using the MARTINI forcefield\n",
    "  leaflets= leaflets.leaflets\n",
    ")\n",
    "\n",
    "areas.run(start=None, stop=None, step=None, verbose=True)\n",
    "areas.areas"
   ]
  },
  {
   "cell_type": "code",
   "execution_count": 32,
   "id": "ec58079b",
   "metadata": {},
   "outputs": [
    {
     "ename": "NoDataError",
     "evalue": "AtomGroup.unwrap() not available; this requires Bonds",
     "output_type": "error",
     "traceback": [
      "\u001b[0;31m---------------------------------------------------------------------------\u001b[0m",
      "\u001b[0;31mNoDataError\u001b[0m                               Traceback (most recent call last)",
      "\u001b[0;32m/tmp/ipykernel_911972/100906634.py\u001b[0m in \u001b[0;36m<module>\u001b[0;34m\u001b[0m\n\u001b[0;32m----> 1\u001b[0;31m \u001b[0mareas\u001b[0m\u001b[0;34m.\u001b[0m\u001b[0mproject_area\u001b[0m\u001b[0;34m(\u001b[0m\u001b[0;34m)\u001b[0m\u001b[0;34m\u001b[0m\u001b[0;34m\u001b[0m\u001b[0m\n\u001b[0m",
      "\u001b[0;32m~/anaconda3/lib/python3.9/site-packages/lipyphilic/lib/area_per_lipid.py\u001b[0m in \u001b[0;36mproject_area\u001b[0;34m(self, lipid_sel, start, stop, step, filter_by, bins, ax, cmap, vmin, vmax, cbar, cbar_kws, imshow_kws)\u001b[0m\n\u001b[1;32m    482\u001b[0m         \u001b[0mself\u001b[0m\u001b[0;34m.\u001b[0m\u001b[0mu\u001b[0m\u001b[0;34m.\u001b[0m\u001b[0mtrajectory\u001b[0m\u001b[0;34m[\u001b[0m\u001b[0mmid_frame\u001b[0m\u001b[0;34m]\u001b[0m\u001b[0;34m\u001b[0m\u001b[0;34m\u001b[0m\u001b[0m\n\u001b[1;32m    483\u001b[0m         \u001b[0mresidues\u001b[0m \u001b[0;34m=\u001b[0m \u001b[0mlipids\u001b[0m\u001b[0;34m.\u001b[0m\u001b[0mgroupby\u001b[0m\u001b[0;34m(\u001b[0m\u001b[0;34m\"resindices\"\u001b[0m\u001b[0;34m)\u001b[0m\u001b[0;34m\u001b[0m\u001b[0;34m\u001b[0m\u001b[0m\n\u001b[0;32m--> 484\u001b[0;31m         \u001b[0mlipid_com\u001b[0m \u001b[0;34m=\u001b[0m \u001b[0mnp\u001b[0m\u001b[0;34m.\u001b[0m\u001b[0marray\u001b[0m\u001b[0;34m(\u001b[0m\u001b[0;34m[\u001b[0m\u001b[0mresidues\u001b[0m\u001b[0;34m[\u001b[0m\u001b[0mres\u001b[0m\u001b[0;34m]\u001b[0m\u001b[0;34m.\u001b[0m\u001b[0mcenter_of_mass\u001b[0m\u001b[0;34m(\u001b[0m\u001b[0munwrap\u001b[0m\u001b[0;34m=\u001b[0m\u001b[0;32mTrue\u001b[0m\u001b[0;34m)\u001b[0m \u001b[0;32mfor\u001b[0m \u001b[0mres\u001b[0m \u001b[0;32min\u001b[0m \u001b[0mresidues\u001b[0m\u001b[0;34m]\u001b[0m\u001b[0;34m)\u001b[0m\u001b[0;34m\u001b[0m\u001b[0;34m\u001b[0m\u001b[0m\n\u001b[0m\u001b[1;32m    485\u001b[0m         \u001b[0;32mfor\u001b[0m \u001b[0mdim\u001b[0m \u001b[0;32min\u001b[0m \u001b[0mrange\u001b[0m\u001b[0;34m(\u001b[0m\u001b[0;36m3\u001b[0m\u001b[0;34m)\u001b[0m\u001b[0;34m:\u001b[0m\u001b[0;34m\u001b[0m\u001b[0;34m\u001b[0m\u001b[0m\n\u001b[1;32m    486\u001b[0m             \u001b[0mlipid_com\u001b[0m\u001b[0;34m[\u001b[0m\u001b[0;34m:\u001b[0m\u001b[0;34m,\u001b[0m \u001b[0mdim\u001b[0m\u001b[0;34m]\u001b[0m\u001b[0;34m[\u001b[0m\u001b[0mlipid_com\u001b[0m\u001b[0;34m[\u001b[0m\u001b[0;34m:\u001b[0m\u001b[0;34m,\u001b[0m \u001b[0mdim\u001b[0m\u001b[0;34m]\u001b[0m \u001b[0;34m>\u001b[0m \u001b[0mself\u001b[0m\u001b[0;34m.\u001b[0m\u001b[0mu\u001b[0m\u001b[0;34m.\u001b[0m\u001b[0mdimensions\u001b[0m\u001b[0;34m[\u001b[0m\u001b[0mdim\u001b[0m\u001b[0;34m]\u001b[0m\u001b[0;34m]\u001b[0m \u001b[0;34m-=\u001b[0m \u001b[0mself\u001b[0m\u001b[0;34m.\u001b[0m\u001b[0mu\u001b[0m\u001b[0;34m.\u001b[0m\u001b[0mdimensions\u001b[0m\u001b[0;34m[\u001b[0m\u001b[0mdim\u001b[0m\u001b[0;34m]\u001b[0m\u001b[0;34m\u001b[0m\u001b[0;34m\u001b[0m\u001b[0m\n",
      "\u001b[0;32m~/anaconda3/lib/python3.9/site-packages/lipyphilic/lib/area_per_lipid.py\u001b[0m in \u001b[0;36m<listcomp>\u001b[0;34m(.0)\u001b[0m\n\u001b[1;32m    482\u001b[0m         \u001b[0mself\u001b[0m\u001b[0;34m.\u001b[0m\u001b[0mu\u001b[0m\u001b[0;34m.\u001b[0m\u001b[0mtrajectory\u001b[0m\u001b[0;34m[\u001b[0m\u001b[0mmid_frame\u001b[0m\u001b[0;34m]\u001b[0m\u001b[0;34m\u001b[0m\u001b[0;34m\u001b[0m\u001b[0m\n\u001b[1;32m    483\u001b[0m         \u001b[0mresidues\u001b[0m \u001b[0;34m=\u001b[0m \u001b[0mlipids\u001b[0m\u001b[0;34m.\u001b[0m\u001b[0mgroupby\u001b[0m\u001b[0;34m(\u001b[0m\u001b[0;34m\"resindices\"\u001b[0m\u001b[0;34m)\u001b[0m\u001b[0;34m\u001b[0m\u001b[0;34m\u001b[0m\u001b[0m\n\u001b[0;32m--> 484\u001b[0;31m         \u001b[0mlipid_com\u001b[0m \u001b[0;34m=\u001b[0m \u001b[0mnp\u001b[0m\u001b[0;34m.\u001b[0m\u001b[0marray\u001b[0m\u001b[0;34m(\u001b[0m\u001b[0;34m[\u001b[0m\u001b[0mresidues\u001b[0m\u001b[0;34m[\u001b[0m\u001b[0mres\u001b[0m\u001b[0;34m]\u001b[0m\u001b[0;34m.\u001b[0m\u001b[0mcenter_of_mass\u001b[0m\u001b[0;34m(\u001b[0m\u001b[0munwrap\u001b[0m\u001b[0;34m=\u001b[0m\u001b[0;32mTrue\u001b[0m\u001b[0;34m)\u001b[0m \u001b[0;32mfor\u001b[0m \u001b[0mres\u001b[0m \u001b[0;32min\u001b[0m \u001b[0mresidues\u001b[0m\u001b[0;34m]\u001b[0m\u001b[0;34m)\u001b[0m\u001b[0;34m\u001b[0m\u001b[0;34m\u001b[0m\u001b[0m\n\u001b[0m\u001b[1;32m    485\u001b[0m         \u001b[0;32mfor\u001b[0m \u001b[0mdim\u001b[0m \u001b[0;32min\u001b[0m \u001b[0mrange\u001b[0m\u001b[0;34m(\u001b[0m\u001b[0;36m3\u001b[0m\u001b[0;34m)\u001b[0m\u001b[0;34m:\u001b[0m\u001b[0;34m\u001b[0m\u001b[0;34m\u001b[0m\u001b[0m\n\u001b[1;32m    486\u001b[0m             \u001b[0mlipid_com\u001b[0m\u001b[0;34m[\u001b[0m\u001b[0;34m:\u001b[0m\u001b[0;34m,\u001b[0m \u001b[0mdim\u001b[0m\u001b[0;34m]\u001b[0m\u001b[0;34m[\u001b[0m\u001b[0mlipid_com\u001b[0m\u001b[0;34m[\u001b[0m\u001b[0;34m:\u001b[0m\u001b[0;34m,\u001b[0m \u001b[0mdim\u001b[0m\u001b[0;34m]\u001b[0m \u001b[0;34m>\u001b[0m \u001b[0mself\u001b[0m\u001b[0;34m.\u001b[0m\u001b[0mu\u001b[0m\u001b[0;34m.\u001b[0m\u001b[0mdimensions\u001b[0m\u001b[0;34m[\u001b[0m\u001b[0mdim\u001b[0m\u001b[0;34m]\u001b[0m\u001b[0;34m]\u001b[0m \u001b[0;34m-=\u001b[0m \u001b[0mself\u001b[0m\u001b[0;34m.\u001b[0m\u001b[0mu\u001b[0m\u001b[0;34m.\u001b[0m\u001b[0mdimensions\u001b[0m\u001b[0;34m[\u001b[0m\u001b[0mdim\u001b[0m\u001b[0;34m]\u001b[0m\u001b[0;34m\u001b[0m\u001b[0;34m\u001b[0m\u001b[0m\n",
      "\u001b[0;32m~/anaconda3/lib/python3.9/site-packages/MDAnalysis/lib/util.py\u001b[0m in \u001b[0;36mwrapper\u001b[0;34m(group, *args, **kwargs)\u001b[0m\n\u001b[1;32m   1900\u001b[0m         \u001b[0;31m# has already been thrown:\u001b[0m\u001b[0;34m\u001b[0m\u001b[0;34m\u001b[0m\u001b[0m\n\u001b[1;32m   1901\u001b[0m         \u001b[0;32mif\u001b[0m \u001b[0mgroup\u001b[0m\u001b[0;34m.\u001b[0m\u001b[0misunique\u001b[0m \u001b[0;32mor\u001b[0m \u001b[0mwarn_if_not_unique\u001b[0m\u001b[0;34m.\u001b[0m\u001b[0mwarned\u001b[0m\u001b[0;34m:\u001b[0m\u001b[0;34m\u001b[0m\u001b[0;34m\u001b[0m\u001b[0m\n\u001b[0;32m-> 1902\u001b[0;31m             \u001b[0;32mreturn\u001b[0m \u001b[0mgroupmethod\u001b[0m\u001b[0;34m(\u001b[0m\u001b[0mgroup\u001b[0m\u001b[0;34m,\u001b[0m \u001b[0;34m*\u001b[0m\u001b[0margs\u001b[0m\u001b[0;34m,\u001b[0m \u001b[0;34m**\u001b[0m\u001b[0mkwargs\u001b[0m\u001b[0;34m)\u001b[0m\u001b[0;34m\u001b[0m\u001b[0;34m\u001b[0m\u001b[0m\n\u001b[0m\u001b[1;32m   1903\u001b[0m         \u001b[0;31m# Otherwise, throw a DuplicateWarning and execute the method.\u001b[0m\u001b[0;34m\u001b[0m\u001b[0;34m\u001b[0m\u001b[0m\n\u001b[1;32m   1904\u001b[0m         method_name = \".\".join(\n",
      "\u001b[0;32m~/anaconda3/lib/python3.9/site-packages/MDAnalysis/core/groups.py\u001b[0m in \u001b[0;36mwrapped\u001b[0;34m(group, *args, **kwargs)\u001b[0m\n\u001b[1;32m    444\u001b[0m             \u001b[0mkwargs\u001b[0m\u001b[0;34m[\u001b[0m\u001b[0;34m'wrap'\u001b[0m\u001b[0;34m]\u001b[0m \u001b[0;34m=\u001b[0m \u001b[0mkwargs\u001b[0m\u001b[0;34m.\u001b[0m\u001b[0mpop\u001b[0m\u001b[0;34m(\u001b[0m\u001b[0;34m'pbc'\u001b[0m\u001b[0;34m)\u001b[0m\u001b[0;34m\u001b[0m\u001b[0;34m\u001b[0m\u001b[0m\n\u001b[1;32m    445\u001b[0m \u001b[0;34m\u001b[0m\u001b[0m\n\u001b[0;32m--> 446\u001b[0;31m         \u001b[0;32mreturn\u001b[0m \u001b[0mfunction\u001b[0m\u001b[0;34m(\u001b[0m\u001b[0mgroup\u001b[0m\u001b[0;34m,\u001b[0m \u001b[0;34m*\u001b[0m\u001b[0margs\u001b[0m\u001b[0;34m,\u001b[0m \u001b[0;34m**\u001b[0m\u001b[0mkwargs\u001b[0m\u001b[0;34m)\u001b[0m\u001b[0;34m\u001b[0m\u001b[0;34m\u001b[0m\u001b[0m\n\u001b[0m\u001b[1;32m    447\u001b[0m     \u001b[0;32mreturn\u001b[0m \u001b[0mwrapped\u001b[0m\u001b[0;34m\u001b[0m\u001b[0;34m\u001b[0m\u001b[0m\n\u001b[1;32m    448\u001b[0m \u001b[0;34m\u001b[0m\u001b[0m\n",
      "\u001b[0;32m~/anaconda3/lib/python3.9/site-packages/MDAnalysis/core/groups.py\u001b[0m in \u001b[0;36mwrapped\u001b[0;34m(group, *args, **kwargs)\u001b[0m\n\u001b[1;32m    454\u001b[0m         \u001b[0;32mif\u001b[0m \u001b[0mkwargs\u001b[0m\u001b[0;34m.\u001b[0m\u001b[0mget\u001b[0m\u001b[0;34m(\u001b[0m\u001b[0;34m'wrap'\u001b[0m\u001b[0;34m)\u001b[0m \u001b[0;32mand\u001b[0m \u001b[0mkwargs\u001b[0m\u001b[0;34m.\u001b[0m\u001b[0mget\u001b[0m\u001b[0;34m(\u001b[0m\u001b[0;34m'unwrap'\u001b[0m\u001b[0;34m)\u001b[0m\u001b[0;34m:\u001b[0m\u001b[0;34m\u001b[0m\u001b[0;34m\u001b[0m\u001b[0m\n\u001b[1;32m    455\u001b[0m             \u001b[0;32mraise\u001b[0m \u001b[0mValueError\u001b[0m\u001b[0;34m(\u001b[0m\u001b[0;34m\"both 'wrap' and 'unwrap' can not be set to true\"\u001b[0m\u001b[0;34m)\u001b[0m\u001b[0;34m\u001b[0m\u001b[0;34m\u001b[0m\u001b[0m\n\u001b[0;32m--> 456\u001b[0;31m         \u001b[0;32mreturn\u001b[0m \u001b[0mfunction\u001b[0m\u001b[0;34m(\u001b[0m\u001b[0mgroup\u001b[0m\u001b[0;34m,\u001b[0m \u001b[0;34m*\u001b[0m\u001b[0margs\u001b[0m\u001b[0;34m,\u001b[0m \u001b[0;34m**\u001b[0m\u001b[0mkwargs\u001b[0m\u001b[0;34m)\u001b[0m\u001b[0;34m\u001b[0m\u001b[0;34m\u001b[0m\u001b[0m\n\u001b[0m\u001b[1;32m    457\u001b[0m     \u001b[0;32mreturn\u001b[0m \u001b[0mwrapped\u001b[0m\u001b[0;34m\u001b[0m\u001b[0;34m\u001b[0m\u001b[0m\n\u001b[1;32m    458\u001b[0m \u001b[0;34m\u001b[0m\u001b[0m\n",
      "\u001b[0;32m~/anaconda3/lib/python3.9/site-packages/MDAnalysis/core/topologyattrs.py\u001b[0m in \u001b[0;36mcenter_of_mass\u001b[0;34m(group, wrap, unwrap, compound)\u001b[0m\n\u001b[1;32m   1520\u001b[0m         \"\"\"\n\u001b[1;32m   1521\u001b[0m         \u001b[0matoms\u001b[0m \u001b[0;34m=\u001b[0m \u001b[0mgroup\u001b[0m\u001b[0;34m.\u001b[0m\u001b[0matoms\u001b[0m\u001b[0;34m\u001b[0m\u001b[0;34m\u001b[0m\u001b[0m\n\u001b[0;32m-> 1522\u001b[0;31m         return atoms.center(weights=atoms.masses, wrap=wrap, compound=compound,\n\u001b[0m\u001b[1;32m   1523\u001b[0m                             unwrap=unwrap)\n\u001b[1;32m   1524\u001b[0m \u001b[0;34m\u001b[0m\u001b[0m\n",
      "\u001b[0;32m~/anaconda3/lib/python3.9/site-packages/MDAnalysis/lib/util.py\u001b[0m in \u001b[0;36mwrapper\u001b[0;34m(group, *args, **kwargs)\u001b[0m\n\u001b[1;32m   1900\u001b[0m         \u001b[0;31m# has already been thrown:\u001b[0m\u001b[0;34m\u001b[0m\u001b[0;34m\u001b[0m\u001b[0m\n\u001b[1;32m   1901\u001b[0m         \u001b[0;32mif\u001b[0m \u001b[0mgroup\u001b[0m\u001b[0;34m.\u001b[0m\u001b[0misunique\u001b[0m \u001b[0;32mor\u001b[0m \u001b[0mwarn_if_not_unique\u001b[0m\u001b[0;34m.\u001b[0m\u001b[0mwarned\u001b[0m\u001b[0;34m:\u001b[0m\u001b[0;34m\u001b[0m\u001b[0;34m\u001b[0m\u001b[0m\n\u001b[0;32m-> 1902\u001b[0;31m             \u001b[0;32mreturn\u001b[0m \u001b[0mgroupmethod\u001b[0m\u001b[0;34m(\u001b[0m\u001b[0mgroup\u001b[0m\u001b[0;34m,\u001b[0m \u001b[0;34m*\u001b[0m\u001b[0margs\u001b[0m\u001b[0;34m,\u001b[0m \u001b[0;34m**\u001b[0m\u001b[0mkwargs\u001b[0m\u001b[0;34m)\u001b[0m\u001b[0;34m\u001b[0m\u001b[0;34m\u001b[0m\u001b[0m\n\u001b[0m\u001b[1;32m   1903\u001b[0m         \u001b[0;31m# Otherwise, throw a DuplicateWarning and execute the method.\u001b[0m\u001b[0;34m\u001b[0m\u001b[0;34m\u001b[0m\u001b[0m\n\u001b[1;32m   1904\u001b[0m         method_name = \".\".join(\n",
      "\u001b[0;32m~/anaconda3/lib/python3.9/site-packages/MDAnalysis/core/groups.py\u001b[0m in \u001b[0;36mwrapped\u001b[0;34m(group, *args, **kwargs)\u001b[0m\n\u001b[1;32m    444\u001b[0m             \u001b[0mkwargs\u001b[0m\u001b[0;34m[\u001b[0m\u001b[0;34m'wrap'\u001b[0m\u001b[0;34m]\u001b[0m \u001b[0;34m=\u001b[0m \u001b[0mkwargs\u001b[0m\u001b[0;34m.\u001b[0m\u001b[0mpop\u001b[0m\u001b[0;34m(\u001b[0m\u001b[0;34m'pbc'\u001b[0m\u001b[0;34m)\u001b[0m\u001b[0;34m\u001b[0m\u001b[0;34m\u001b[0m\u001b[0m\n\u001b[1;32m    445\u001b[0m \u001b[0;34m\u001b[0m\u001b[0m\n\u001b[0;32m--> 446\u001b[0;31m         \u001b[0;32mreturn\u001b[0m \u001b[0mfunction\u001b[0m\u001b[0;34m(\u001b[0m\u001b[0mgroup\u001b[0m\u001b[0;34m,\u001b[0m \u001b[0;34m*\u001b[0m\u001b[0margs\u001b[0m\u001b[0;34m,\u001b[0m \u001b[0;34m**\u001b[0m\u001b[0mkwargs\u001b[0m\u001b[0;34m)\u001b[0m\u001b[0;34m\u001b[0m\u001b[0;34m\u001b[0m\u001b[0m\n\u001b[0m\u001b[1;32m    447\u001b[0m     \u001b[0;32mreturn\u001b[0m \u001b[0mwrapped\u001b[0m\u001b[0;34m\u001b[0m\u001b[0;34m\u001b[0m\u001b[0m\n\u001b[1;32m    448\u001b[0m \u001b[0;34m\u001b[0m\u001b[0m\n",
      "\u001b[0;32m~/anaconda3/lib/python3.9/site-packages/MDAnalysis/core/groups.py\u001b[0m in \u001b[0;36mwrapped\u001b[0;34m(group, *args, **kwargs)\u001b[0m\n\u001b[1;32m    454\u001b[0m         \u001b[0;32mif\u001b[0m \u001b[0mkwargs\u001b[0m\u001b[0;34m.\u001b[0m\u001b[0mget\u001b[0m\u001b[0;34m(\u001b[0m\u001b[0;34m'wrap'\u001b[0m\u001b[0;34m)\u001b[0m \u001b[0;32mand\u001b[0m \u001b[0mkwargs\u001b[0m\u001b[0;34m.\u001b[0m\u001b[0mget\u001b[0m\u001b[0;34m(\u001b[0m\u001b[0;34m'unwrap'\u001b[0m\u001b[0;34m)\u001b[0m\u001b[0;34m:\u001b[0m\u001b[0;34m\u001b[0m\u001b[0;34m\u001b[0m\u001b[0m\n\u001b[1;32m    455\u001b[0m             \u001b[0;32mraise\u001b[0m \u001b[0mValueError\u001b[0m\u001b[0;34m(\u001b[0m\u001b[0;34m\"both 'wrap' and 'unwrap' can not be set to true\"\u001b[0m\u001b[0;34m)\u001b[0m\u001b[0;34m\u001b[0m\u001b[0;34m\u001b[0m\u001b[0m\n\u001b[0;32m--> 456\u001b[0;31m         \u001b[0;32mreturn\u001b[0m \u001b[0mfunction\u001b[0m\u001b[0;34m(\u001b[0m\u001b[0mgroup\u001b[0m\u001b[0;34m,\u001b[0m \u001b[0;34m*\u001b[0m\u001b[0margs\u001b[0m\u001b[0;34m,\u001b[0m \u001b[0;34m**\u001b[0m\u001b[0mkwargs\u001b[0m\u001b[0;34m)\u001b[0m\u001b[0;34m\u001b[0m\u001b[0;34m\u001b[0m\u001b[0m\n\u001b[0m\u001b[1;32m    457\u001b[0m     \u001b[0;32mreturn\u001b[0m \u001b[0mwrapped\u001b[0m\u001b[0;34m\u001b[0m\u001b[0;34m\u001b[0m\u001b[0m\n\u001b[1;32m    458\u001b[0m \u001b[0;34m\u001b[0m\u001b[0m\n",
      "\u001b[0;32m~/anaconda3/lib/python3.9/site-packages/MDAnalysis/core/groups.py\u001b[0m in \u001b[0;36mcenter\u001b[0;34m(self, weights, wrap, unwrap, compound)\u001b[0m\n\u001b[1;32m   1054\u001b[0m                 \u001b[0mcoords\u001b[0m \u001b[0;34m=\u001b[0m \u001b[0matoms\u001b[0m\u001b[0;34m.\u001b[0m\u001b[0mpack_into_box\u001b[0m\u001b[0;34m(\u001b[0m\u001b[0minplace\u001b[0m\u001b[0;34m=\u001b[0m\u001b[0;32mFalse\u001b[0m\u001b[0;34m)\u001b[0m\u001b[0;34m\u001b[0m\u001b[0;34m\u001b[0m\u001b[0m\n\u001b[1;32m   1055\u001b[0m             \u001b[0;32melif\u001b[0m \u001b[0munwrap\u001b[0m\u001b[0;34m:\u001b[0m\u001b[0;34m\u001b[0m\u001b[0;34m\u001b[0m\u001b[0m\n\u001b[0;32m-> 1056\u001b[0;31m                 coords = atoms.unwrap(\n\u001b[0m\u001b[1;32m   1057\u001b[0m                     compound=comp, reference=None, inplace=False)\n\u001b[1;32m   1058\u001b[0m             \u001b[0;32melse\u001b[0m\u001b[0;34m:\u001b[0m\u001b[0;34m\u001b[0m\u001b[0;34m\u001b[0m\u001b[0m\n",
      "\u001b[0;32m~/anaconda3/lib/python3.9/site-packages/MDAnalysis/core/groups.py\u001b[0m in \u001b[0;36munwrap\u001b[0;34m(self, compound, reference, inplace)\u001b[0m\n\u001b[1;32m   1821\u001b[0m         \u001b[0;31m# bail out early if no bonds in topology:\u001b[0m\u001b[0;34m\u001b[0m\u001b[0;34m\u001b[0m\u001b[0m\n\u001b[1;32m   1822\u001b[0m         \u001b[0;32mif\u001b[0m \u001b[0;32mnot\u001b[0m \u001b[0mhasattr\u001b[0m\u001b[0;34m(\u001b[0m\u001b[0matoms\u001b[0m\u001b[0;34m,\u001b[0m \u001b[0;34m'bonds'\u001b[0m\u001b[0;34m)\u001b[0m\u001b[0;34m:\u001b[0m\u001b[0;34m\u001b[0m\u001b[0;34m\u001b[0m\u001b[0m\n\u001b[0;32m-> 1823\u001b[0;31m             raise NoDataError(\"{}.unwrap() not available; this requires Bonds\"\n\u001b[0m\u001b[1;32m   1824\u001b[0m                               \"\".format(self.__class__.__name__))\n\u001b[1;32m   1825\u001b[0m         \u001b[0munique_atoms\u001b[0m \u001b[0;34m=\u001b[0m \u001b[0matoms\u001b[0m\u001b[0;34m.\u001b[0m\u001b[0munsorted_unique\u001b[0m\u001b[0;34m\u001b[0m\u001b[0;34m\u001b[0m\u001b[0m\n",
      "\u001b[0;31mNoDataError\u001b[0m: AtomGroup.unwrap() not available; this requires Bonds"
     ]
    }
   ],
   "source": [
    "areas.project_area()"
   ]
  },
  {
   "cell_type": "markdown",
   "id": "4f27fefc",
   "metadata": {},
   "source": [
    "## 6.- Calculate lipid order parameter"
   ]
  },
  {
   "cell_type": "code",
   "execution_count": 24,
   "id": "b50fc70d",
   "metadata": {},
   "outputs": [
    {
     "data": {
      "application/vnd.jupyter.widget-view+json": {
       "model_id": "e348ec58b18049ed99fd586e72595d14",
       "version_major": 2,
       "version_minor": 0
      },
      "text/plain": [
       "  0%|          | 0/101 [00:00<?, ?it/s]"
      ]
     },
     "metadata": {},
     "output_type": "display_data"
    },
    {
     "data": {
      "application/vnd.jupyter.widget-view+json": {
       "model_id": "9de3d463340243a3ac292826da4f81d0",
       "version_major": 2,
       "version_minor": 0
      },
      "text/plain": [
       "  0%|          | 0/101 [00:00<?, ?it/s]"
      ]
     },
     "metadata": {},
     "output_type": "display_data"
    },
    {
     "name": "stdout",
     "output_type": "stream",
     "text": [
      "[[ 0.15015222  0.52005266  0.45644873 ...  0.38368262  0.03976182\n",
      "   0.19064553]\n",
      " [ 0.44860431  0.3521393   0.46379279 ...  0.28350177  0.1277843\n",
      "   0.31811381]\n",
      " [ 0.43166041  0.53183657  0.20009969 ...  0.26218559  0.14151495\n",
      "   0.41575104]\n",
      " ...\n",
      " [ 0.20050992  0.41296375  0.37887865 ...  0.27207282  0.44955107\n",
      "   0.21194587]\n",
      " [ 0.25427989  0.35253109 -0.05964335 ...  0.70321646  0.45138725\n",
      "   0.23980423]\n",
      " [ 0.12728618  0.36455576 -0.25911421 ...  0.52096539  0.23516731\n",
      "   0.5806046 ]]\n"
     ]
    }
   ],
   "source": [
    "#Calculate order lipid parameters\n",
    "scc_sn1 = SCC(\n",
    "  universe=u,\n",
    "  tail_sel=\"name ??A\"  # selects C1A, C2A, D2A, C3A, and C4A\n",
    ")\n",
    "\n",
    "scc_sn2 = SCC(\n",
    "  universe=u,\n",
    "  tail_sel=\"name ??B\"  # selects C1B, C2B, D2B, C3B, and C4B\n",
    ")\n",
    "scc_sn2.run(verbose=True)\n",
    "scc_sn1.run(verbose=True)\n",
    "\n",
    "#Calculaye avg between the 2 tails: returns array of size n_lipids x n_frames\n",
    "scc_avg = SCC.weighted_average(scc_sn1, scc_sn2)\n",
    "\n",
    "print(scc_avg.SCC)"
   ]
  },
  {
   "cell_type": "markdown",
   "id": "aef99f53",
   "metadata": {},
   "source": [
    "## 7. Pylipid: calculate residue occupancy"
   ]
  },
  {
   "cell_type": "code",
   "execution_count": 39,
   "id": "04821864",
   "metadata": {},
   "outputs": [
    {
     "name": "stdout",
     "output_type": "stream",
     "text": [
      "Folder Pylipid created\n"
     ]
    }
   ],
   "source": [
    "try:\n",
    "    os.mkdir(\"Analysis/PyLipid\")\n",
    "    print(\"Folder Pylipid created\")\n",
    "except OSError as error:\n",
    "    print(\"Can't create folder: folder Pylipid already exists\")"
   ]
  },
  {
   "cell_type": "code",
   "execution_count": 48,
   "id": "394ec503",
   "metadata": {},
   "outputs": [
    {
     "name": "stdout",
     "output_type": "stream",
     "text": [
      "Creating new director: /home/apmlab/Projectes/mario/Script_devel/Analysis_scripts/Analysis/PyLipid/Interaction_POPI\n"
     ]
    }
   ],
   "source": [
    "#Loop for every lipid\n",
    "\n",
    "#Prepare data for PyLipid module\n",
    "cutoffs = [0.475, 0.8] #Must be optimized for each lipid\n",
    "nprot=1\n",
    "timeunit = \"us\"\n",
    "save_dir = \"./Analysis/PyLipid/\"\n",
    "\n",
    "\n",
    "\n",
    "#Initialize\n",
    "li = pylipid.api.LipidInteraction(traj_file, topfile_list=top_file, cutoffs=cutoffs, lipid=\"POPI\",\n",
    "                      nprot=nprot, save_dir=save_dir)"
   ]
  },
  {
   "cell_type": "code",
   "execution_count": 51,
   "id": "46b6050d",
   "metadata": {},
   "outputs": [
    {
     "name": "stderr",
     "output_type": "stream",
     "text": [
      "COLLECT INTERACTIONS FROM TRAJECTORIES: 100%|██████████| 1/1 [05:12<00:00, 312.07s/it]\n",
      "CALCULATE DURATION PER RESIDUE: 100%|██████████| 1482/1482 [01:54<00:00, 12.96it/s]\n",
      "CALCULATE OCCUPANCY: 100%|██████████| 1482/1482 [00:01<00:00, 984.41it/s] \n",
      "CALCULATE RESIDUE LIPIDCOUNT: 100%|██████████| 1482/1482 [00:01<00:00, 1035.01it/s]\n"
     ]
    }
   ],
   "source": [
    "li.collect_residue_contacts()\n",
    "durations = li.compute_residue_duration()\n",
    "occupancies = li.compute_residue_occupancy()\n",
    "lipidcounts = li.compute_residue_lipidcount()"
   ]
  },
  {
   "cell_type": "code",
   "execution_count": 63,
   "id": "b8411e10",
   "metadata": {},
   "outputs": [
    {
     "data": {
      "text/html": [
       "<div>\n",
       "<style scoped>\n",
       "    .dataframe tbody tr th:only-of-type {\n",
       "        vertical-align: middle;\n",
       "    }\n",
       "\n",
       "    .dataframe tbody tr th {\n",
       "        vertical-align: top;\n",
       "    }\n",
       "\n",
       "    .dataframe thead th {\n",
       "        text-align: right;\n",
       "    }\n",
       "</style>\n",
       "<table border=\"1\" class=\"dataframe\">\n",
       "  <thead>\n",
       "    <tr style=\"text-align: right;\">\n",
       "      <th></th>\n",
       "      <th>Residue</th>\n",
       "      <th>Residue ID</th>\n",
       "      <th>Duration</th>\n",
       "      <th>Duration std</th>\n",
       "      <th>Occupancy</th>\n",
       "      <th>Occupancy std</th>\n",
       "      <th>Lipid Count</th>\n",
       "      <th>Lipid Count std</th>\n",
       "    </tr>\n",
       "  </thead>\n",
       "  <tbody>\n",
       "    <tr>\n",
       "      <th>38</th>\n",
       "      <td>39PHE</td>\n",
       "      <td>38</td>\n",
       "      <td>0.017278</td>\n",
       "      <td>0.028929</td>\n",
       "      <td>34.606539</td>\n",
       "      <td>0.0</td>\n",
       "      <td>1.133487</td>\n",
       "      <td>0.0</td>\n",
       "    </tr>\n",
       "    <tr>\n",
       "      <th>40</th>\n",
       "      <td>41PHE</td>\n",
       "      <td>40</td>\n",
       "      <td>0.053278</td>\n",
       "      <td>0.205977</td>\n",
       "      <td>20.877912</td>\n",
       "      <td>0.0</td>\n",
       "      <td>1.021552</td>\n",
       "      <td>0.0</td>\n",
       "    </tr>\n",
       "    <tr>\n",
       "      <th>42</th>\n",
       "      <td>43PHE</td>\n",
       "      <td>42</td>\n",
       "      <td>0.014996</td>\n",
       "      <td>0.024983</td>\n",
       "      <td>22.117788</td>\n",
       "      <td>0.0</td>\n",
       "      <td>1.067812</td>\n",
       "      <td>0.0</td>\n",
       "    </tr>\n",
       "    <tr>\n",
       "      <th>49</th>\n",
       "      <td>50PHE</td>\n",
       "      <td>49</td>\n",
       "      <td>0.013972</td>\n",
       "      <td>0.025623</td>\n",
       "      <td>21.517848</td>\n",
       "      <td>0.0</td>\n",
       "      <td>1.058086</td>\n",
       "      <td>0.0</td>\n",
       "    </tr>\n",
       "    <tr>\n",
       "      <th>50</th>\n",
       "      <td>51HIS</td>\n",
       "      <td>50</td>\n",
       "      <td>0.116184</td>\n",
       "      <td>0.342478</td>\n",
       "      <td>25.497450</td>\n",
       "      <td>0.0</td>\n",
       "      <td>1.038824</td>\n",
       "      <td>0.0</td>\n",
       "    </tr>\n",
       "    <tr>\n",
       "      <th>55</th>\n",
       "      <td>56VAL</td>\n",
       "      <td>55</td>\n",
       "      <td>0.057868</td>\n",
       "      <td>0.111415</td>\n",
       "      <td>20.067993</td>\n",
       "      <td>0.0</td>\n",
       "      <td>1.017439</td>\n",
       "      <td>0.0</td>\n",
       "    </tr>\n",
       "    <tr>\n",
       "      <th>130</th>\n",
       "      <td>131PHE</td>\n",
       "      <td>130</td>\n",
       "      <td>0.036855</td>\n",
       "      <td>0.112024</td>\n",
       "      <td>26.247375</td>\n",
       "      <td>0.0</td>\n",
       "      <td>1.116190</td>\n",
       "      <td>0.0</td>\n",
       "    </tr>\n",
       "    <tr>\n",
       "      <th>132</th>\n",
       "      <td>133LYS</td>\n",
       "      <td>132</td>\n",
       "      <td>0.051147</td>\n",
       "      <td>0.115830</td>\n",
       "      <td>25.687431</td>\n",
       "      <td>0.0</td>\n",
       "      <td>1.095368</td>\n",
       "      <td>0.0</td>\n",
       "    </tr>\n",
       "    <tr>\n",
       "      <th>133</th>\n",
       "      <td>134PHE</td>\n",
       "      <td>133</td>\n",
       "      <td>0.071647</td>\n",
       "      <td>0.188060</td>\n",
       "      <td>29.787021</td>\n",
       "      <td>0.0</td>\n",
       "      <td>1.114804</td>\n",
       "      <td>0.0</td>\n",
       "    </tr>\n",
       "    <tr>\n",
       "      <th>135</th>\n",
       "      <td>136ARG</td>\n",
       "      <td>135</td>\n",
       "      <td>0.040076</td>\n",
       "      <td>0.151729</td>\n",
       "      <td>31.036896</td>\n",
       "      <td>0.0</td>\n",
       "      <td>1.094394</td>\n",
       "      <td>0.0</td>\n",
       "    </tr>\n",
       "    <tr>\n",
       "      <th>141</th>\n",
       "      <td>142PHE</td>\n",
       "      <td>141</td>\n",
       "      <td>0.034535</td>\n",
       "      <td>0.067520</td>\n",
       "      <td>30.026997</td>\n",
       "      <td>0.0</td>\n",
       "      <td>1.081918</td>\n",
       "      <td>0.0</td>\n",
       "    </tr>\n",
       "    <tr>\n",
       "      <th>144</th>\n",
       "      <td>145LYS</td>\n",
       "      <td>144</td>\n",
       "      <td>0.074903</td>\n",
       "      <td>0.168864</td>\n",
       "      <td>28.437156</td>\n",
       "      <td>0.0</td>\n",
       "      <td>1.086498</td>\n",
       "      <td>0.0</td>\n",
       "    </tr>\n",
       "    <tr>\n",
       "      <th>147</th>\n",
       "      <td>148LYS</td>\n",
       "      <td>147</td>\n",
       "      <td>0.044200</td>\n",
       "      <td>0.074288</td>\n",
       "      <td>27.957204</td>\n",
       "      <td>0.0</td>\n",
       "      <td>1.084049</td>\n",
       "      <td>0.0</td>\n",
       "    </tr>\n",
       "    <tr>\n",
       "      <th>389</th>\n",
       "      <td>390ILE</td>\n",
       "      <td>389</td>\n",
       "      <td>0.098011</td>\n",
       "      <td>0.144512</td>\n",
       "      <td>27.967203</td>\n",
       "      <td>0.0</td>\n",
       "      <td>1.006078</td>\n",
       "      <td>0.0</td>\n",
       "    </tr>\n",
       "    <tr>\n",
       "      <th>393</th>\n",
       "      <td>394LYS</td>\n",
       "      <td>393</td>\n",
       "      <td>0.072190</td>\n",
       "      <td>0.124442</td>\n",
       "      <td>20.187981</td>\n",
       "      <td>0.0</td>\n",
       "      <td>1.062407</td>\n",
       "      <td>0.0</td>\n",
       "    </tr>\n",
       "    <tr>\n",
       "      <th>397</th>\n",
       "      <td>398ILE</td>\n",
       "      <td>397</td>\n",
       "      <td>0.090027</td>\n",
       "      <td>0.309521</td>\n",
       "      <td>25.717428</td>\n",
       "      <td>0.0</td>\n",
       "      <td>1.016330</td>\n",
       "      <td>0.0</td>\n",
       "    </tr>\n",
       "    <tr>\n",
       "      <th>399</th>\n",
       "      <td>400TRP</td>\n",
       "      <td>399</td>\n",
       "      <td>0.030013</td>\n",
       "      <td>0.053358</td>\n",
       "      <td>21.017898</td>\n",
       "      <td>0.0</td>\n",
       "      <td>1.033302</td>\n",
       "      <td>0.0</td>\n",
       "    </tr>\n",
       "    <tr>\n",
       "      <th>404</th>\n",
       "      <td>405PHE</td>\n",
       "      <td>404</td>\n",
       "      <td>0.010860</td>\n",
       "      <td>0.021861</td>\n",
       "      <td>24.647535</td>\n",
       "      <td>0.0</td>\n",
       "      <td>1.065720</td>\n",
       "      <td>0.0</td>\n",
       "    </tr>\n",
       "    <tr>\n",
       "      <th>1047</th>\n",
       "      <td>1048LYS</td>\n",
       "      <td>1047</td>\n",
       "      <td>0.149245</td>\n",
       "      <td>0.486032</td>\n",
       "      <td>36.246375</td>\n",
       "      <td>0.0</td>\n",
       "      <td>1.078345</td>\n",
       "      <td>0.0</td>\n",
       "    </tr>\n",
       "    <tr>\n",
       "      <th>1052</th>\n",
       "      <td>1053PHE</td>\n",
       "      <td>1052</td>\n",
       "      <td>0.030638</td>\n",
       "      <td>0.091987</td>\n",
       "      <td>32.436756</td>\n",
       "      <td>0.0</td>\n",
       "      <td>1.137176</td>\n",
       "      <td>0.0</td>\n",
       "    </tr>\n",
       "    <tr>\n",
       "      <th>1053</th>\n",
       "      <td>1054PHE</td>\n",
       "      <td>1053</td>\n",
       "      <td>0.017686</td>\n",
       "      <td>0.070948</td>\n",
       "      <td>34.256574</td>\n",
       "      <td>0.0</td>\n",
       "      <td>1.138062</td>\n",
       "      <td>0.0</td>\n",
       "    </tr>\n",
       "    <tr>\n",
       "      <th>1056</th>\n",
       "      <td>1057VAL</td>\n",
       "      <td>1056</td>\n",
       "      <td>0.016567</td>\n",
       "      <td>0.033741</td>\n",
       "      <td>22.237776</td>\n",
       "      <td>0.0</td>\n",
       "      <td>1.059353</td>\n",
       "      <td>0.0</td>\n",
       "    </tr>\n",
       "    <tr>\n",
       "      <th>1059</th>\n",
       "      <td>1060ARG</td>\n",
       "      <td>1059</td>\n",
       "      <td>0.050925</td>\n",
       "      <td>0.077894</td>\n",
       "      <td>25.857414</td>\n",
       "      <td>0.0</td>\n",
       "      <td>1.072312</td>\n",
       "      <td>0.0</td>\n",
       "    </tr>\n",
       "    <tr>\n",
       "      <th>1060</th>\n",
       "      <td>1061LYS</td>\n",
       "      <td>1060</td>\n",
       "      <td>0.026819</td>\n",
       "      <td>0.040806</td>\n",
       "      <td>32.076792</td>\n",
       "      <td>0.0</td>\n",
       "      <td>1.108167</td>\n",
       "      <td>0.0</td>\n",
       "    </tr>\n",
       "    <tr>\n",
       "      <th>1243</th>\n",
       "      <td>1244PHE</td>\n",
       "      <td>1243</td>\n",
       "      <td>0.122810</td>\n",
       "      <td>0.337131</td>\n",
       "      <td>23.917608</td>\n",
       "      <td>0.0</td>\n",
       "      <td>1.003344</td>\n",
       "      <td>0.0</td>\n",
       "    </tr>\n",
       "    <tr>\n",
       "      <th>1278</th>\n",
       "      <td>1279TYR</td>\n",
       "      <td>1278</td>\n",
       "      <td>0.036361</td>\n",
       "      <td>0.082653</td>\n",
       "      <td>20.157984</td>\n",
       "      <td>0.0</td>\n",
       "      <td>1.057540</td>\n",
       "      <td>0.0</td>\n",
       "    </tr>\n",
       "    <tr>\n",
       "      <th>1293</th>\n",
       "      <td>1294PHE</td>\n",
       "      <td>1293</td>\n",
       "      <td>0.037482</td>\n",
       "      <td>0.153490</td>\n",
       "      <td>30.836916</td>\n",
       "      <td>0.0</td>\n",
       "      <td>1.082685</td>\n",
       "      <td>0.0</td>\n",
       "    </tr>\n",
       "    <tr>\n",
       "      <th>1357</th>\n",
       "      <td>1358PHE</td>\n",
       "      <td>1357</td>\n",
       "      <td>0.012895</td>\n",
       "      <td>0.016907</td>\n",
       "      <td>21.087891</td>\n",
       "      <td>0.0</td>\n",
       "      <td>1.066382</td>\n",
       "      <td>0.0</td>\n",
       "    </tr>\n",
       "    <tr>\n",
       "      <th>1406</th>\n",
       "      <td>1407ARG</td>\n",
       "      <td>1406</td>\n",
       "      <td>0.074036</td>\n",
       "      <td>0.378014</td>\n",
       "      <td>27.217278</td>\n",
       "      <td>0.0</td>\n",
       "      <td>1.080088</td>\n",
       "      <td>0.0</td>\n",
       "    </tr>\n",
       "    <tr>\n",
       "      <th>1408</th>\n",
       "      <td>1409TYR</td>\n",
       "      <td>1408</td>\n",
       "      <td>0.024424</td>\n",
       "      <td>0.120780</td>\n",
       "      <td>29.437056</td>\n",
       "      <td>0.0</td>\n",
       "      <td>1.055027</td>\n",
       "      <td>0.0</td>\n",
       "    </tr>\n",
       "    <tr>\n",
       "      <th>1415</th>\n",
       "      <td>1416LYS</td>\n",
       "      <td>1415</td>\n",
       "      <td>0.045179</td>\n",
       "      <td>0.133164</td>\n",
       "      <td>26.357364</td>\n",
       "      <td>0.0</td>\n",
       "      <td>1.064492</td>\n",
       "      <td>0.0</td>\n",
       "    </tr>\n",
       "  </tbody>\n",
       "</table>\n",
       "</div>"
      ],
      "text/plain": [
       "      Residue  Residue ID  Duration  Duration std  Occupancy  Occupancy std  \\\n",
       "38      39PHE          38  0.017278      0.028929  34.606539            0.0   \n",
       "40      41PHE          40  0.053278      0.205977  20.877912            0.0   \n",
       "42      43PHE          42  0.014996      0.024983  22.117788            0.0   \n",
       "49      50PHE          49  0.013972      0.025623  21.517848            0.0   \n",
       "50      51HIS          50  0.116184      0.342478  25.497450            0.0   \n",
       "55      56VAL          55  0.057868      0.111415  20.067993            0.0   \n",
       "130    131PHE         130  0.036855      0.112024  26.247375            0.0   \n",
       "132    133LYS         132  0.051147      0.115830  25.687431            0.0   \n",
       "133    134PHE         133  0.071647      0.188060  29.787021            0.0   \n",
       "135    136ARG         135  0.040076      0.151729  31.036896            0.0   \n",
       "141    142PHE         141  0.034535      0.067520  30.026997            0.0   \n",
       "144    145LYS         144  0.074903      0.168864  28.437156            0.0   \n",
       "147    148LYS         147  0.044200      0.074288  27.957204            0.0   \n",
       "389    390ILE         389  0.098011      0.144512  27.967203            0.0   \n",
       "393    394LYS         393  0.072190      0.124442  20.187981            0.0   \n",
       "397    398ILE         397  0.090027      0.309521  25.717428            0.0   \n",
       "399    400TRP         399  0.030013      0.053358  21.017898            0.0   \n",
       "404    405PHE         404  0.010860      0.021861  24.647535            0.0   \n",
       "1047  1048LYS        1047  0.149245      0.486032  36.246375            0.0   \n",
       "1052  1053PHE        1052  0.030638      0.091987  32.436756            0.0   \n",
       "1053  1054PHE        1053  0.017686      0.070948  34.256574            0.0   \n",
       "1056  1057VAL        1056  0.016567      0.033741  22.237776            0.0   \n",
       "1059  1060ARG        1059  0.050925      0.077894  25.857414            0.0   \n",
       "1060  1061LYS        1060  0.026819      0.040806  32.076792            0.0   \n",
       "1243  1244PHE        1243  0.122810      0.337131  23.917608            0.0   \n",
       "1278  1279TYR        1278  0.036361      0.082653  20.157984            0.0   \n",
       "1293  1294PHE        1293  0.037482      0.153490  30.836916            0.0   \n",
       "1357  1358PHE        1357  0.012895      0.016907  21.087891            0.0   \n",
       "1406  1407ARG        1406  0.074036      0.378014  27.217278            0.0   \n",
       "1408  1409TYR        1408  0.024424      0.120780  29.437056            0.0   \n",
       "1415  1416LYS        1415  0.045179      0.133164  26.357364            0.0   \n",
       "\n",
       "      Lipid Count  Lipid Count std  \n",
       "38       1.133487              0.0  \n",
       "40       1.021552              0.0  \n",
       "42       1.067812              0.0  \n",
       "49       1.058086              0.0  \n",
       "50       1.038824              0.0  \n",
       "55       1.017439              0.0  \n",
       "130      1.116190              0.0  \n",
       "132      1.095368              0.0  \n",
       "133      1.114804              0.0  \n",
       "135      1.094394              0.0  \n",
       "141      1.081918              0.0  \n",
       "144      1.086498              0.0  \n",
       "147      1.084049              0.0  \n",
       "389      1.006078              0.0  \n",
       "393      1.062407              0.0  \n",
       "397      1.016330              0.0  \n",
       "399      1.033302              0.0  \n",
       "404      1.065720              0.0  \n",
       "1047     1.078345              0.0  \n",
       "1052     1.137176              0.0  \n",
       "1053     1.138062              0.0  \n",
       "1056     1.059353              0.0  \n",
       "1059     1.072312              0.0  \n",
       "1060     1.108167              0.0  \n",
       "1243     1.003344              0.0  \n",
       "1278     1.057540              0.0  \n",
       "1293     1.082685              0.0  \n",
       "1357     1.066382              0.0  \n",
       "1406     1.080088              0.0  \n",
       "1408     1.055027              0.0  \n",
       "1415     1.064492              0.0  "
      ]
     },
     "execution_count": 63,
     "metadata": {},
     "output_type": "execute_result"
    }
   ],
   "source": [
    "li.dataset[li.dataset[\"Occupancy\"] > 20]"
   ]
  }
 ],
 "metadata": {
  "kernelspec": {
   "display_name": "Python 3 (ipykernel)",
   "language": "python",
   "name": "python3"
  },
  "language_info": {
   "codemirror_mode": {
    "name": "ipython",
    "version": 3
   },
   "file_extension": ".py",
   "mimetype": "text/x-python",
   "name": "python",
   "nbconvert_exporter": "python",
   "pygments_lexer": "ipython3",
   "version": "3.9.7"
  },
  "vscode": {
   "interpreter": {
    "hash": "5fdd54f713681fbffcb54ddeba274845ded6a68c7b6688f9d166dffd02e80e10"
   }
  }
 },
 "nbformat": 4,
 "nbformat_minor": 5
}
