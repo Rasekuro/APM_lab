{
 "cells": [
  {
   "cell_type": "markdown",
   "id": "a5188adf",
   "metadata": {},
   "source": [
    "# PyLipid Dual Cutoff Optimization"
   ]
  },
  {
   "cell_type": "code",
   "execution_count": 1,
   "id": "ca190ba7",
   "metadata": {},
   "outputs": [
    {
     "name": "stdout",
     "output_type": "stream",
     "text": [
      "Can't create folder: folder Analysis/PyLipid/Cut-Off_Optimization already exists\n"
     ]
    }
   ],
   "source": [
    "#Create folder to store PyLipid Optimization data\n",
    "import os\n",
    "try:\n",
    "    os.mkdir(\"Analysis/PyLipid/Cut-Off_Optimization\")\n",
    "    print(\"Folder Analysis/PyLipid/Cut-Off_Optimization created\")\n",
    "except OSError as error:\n",
    "    print(\"Can't create folder: folder Analysis/PyLipid/Cut-Off_Optimization already exists\")"
   ]
  },
  {
   "cell_type": "code",
   "execution_count": 6,
   "id": "45150d0b",
   "metadata": {},
   "outputs": [],
   "source": [
    "#Prepare packages + Functions top determine minimum distances lipid-protein\n",
    "from itertools import product\n",
    "import mdtraj as md\n",
    "from pylipid.util import get_traj_info, check_dir\n",
    "%matplotlib inline\n",
    "import numpy as np\n",
    "import matplotlib.pyplot as plt\n",
    "import pylipid\n",
    "from pylipid.api import LipidInteraction\n",
    "import matplotlib.ticker as ticker\n",
    "import pickle\n",
    "import shutil\n",
    "\n",
    "def plot_minimum_distances(distances, times, title, fn):\n",
    "    fig, ax = plt.subplots(1, 1, figsize=(3, 2.5))\n",
    "    ax.plot(times, distances)\n",
    "    ax.set_xlabel(r\"Time ($\\mu$s)\")\n",
    "    ax.set_ylabel(\"Minimum distances (nm)\")\n",
    "    ax.set_title(title)\n",
    "    ax.set_ylim(0, 1.0)\n",
    "    plt.tight_layout()\n",
    "    plt.savefig(fn, dpi=200)\n",
    "    plt.close()\n",
    "    return\n",
    "\n",
    "\n",
    "def compute_minimum_distance(traj, lipid, fig_dir, lipid_atoms=None,\n",
    "                            contact_frames=10, distance_threshold=0.65):\n",
    "    DIST_CONTACT_ALL = []\n",
    "    traj_info, _, _ = get_traj_info(traj, lipid, lipid_atoms=lipid_atoms)\n",
    "    for protein_idx in np.arange(nprot, dtype=int):\n",
    "        for residue_idx, residue_atom_indices in enumerate(\n",
    "            traj_info[\"protein_residue_atomid_list\"][protein_idx]):\n",
    "            dist_matrix = np.array([np.min(\n",
    "                            md.compute_distances(traj, np.array(list(product(residue_atom_indices, lipid_atom_indices)))),\n",
    "                            axis=1) for lipid_atom_indices in traj_info[\"lipid_residue_atomid_list\"]])\n",
    "            # plot distances\n",
    "            for lipid_idx in np.arange(len(dist_matrix)):\n",
    "                if sum(dist_matrix[lipid_idx] < distance_threshold) >= contact_frames:\n",
    "                    DIST_CONTACT_ALL.append(dist_matrix[lipid_idx])\n",
    "                    plot_minimum_distances(dist_matrix[lipid_idx], traj.time/1000000.0,\n",
    "                                           \"{}-{}{}\".format(traj_info[\"residue_list\"][residue_idx], lipid, lipid_idx),\n",
    "                                           \"{}/dist_{}_{}{}.png\".format(fig_dir, traj_info[\"residue_list\"][residue_idx],\n",
    "                                                                        lipid, lipid_idx))\n",
    "\n",
    "    return DIST_CONTACT_ALL\n",
    "\n",
    "def plot_PDF(distance_set, num_of_bins, fn):\n",
    "    fig, ax = plt.subplots(1,1)\n",
    "    ax.hist(distance_set, bins=num_of_bins, density=True)\n",
    "    ax.set_xlim(0, 1.0)\n",
    "    ax.set_xlabel(\"Minimum distance (nm)\")\n",
    "    ax.set_ylabel(\"Probablity Density\")\n",
    "    ax.set_title(lipid)\n",
    "    ax.xaxis.set_major_locator(ticker.MultipleLocator(0.2))\n",
    "    ax.xaxis.set_minor_locator(ticker.MultipleLocator(0.05))\n",
    "    plt.tight_layout()\n",
    "    plt.savefig(fn, dpi=200)\n",
    "    return\n",
    "\n",
    "def test_cutoffs(cutoff_list, trajfile_list, topfile_list, lipid, lipid_atons, nprot=1,\n",
    "                 stride=1, save_dir=None, timeunit=\"us\"):\n",
    "    num_of_binding_sites = {}\n",
    "    duration_avgs = {}\n",
    "    num_of_contacting_residues = {}\n",
    "    for cutoffs in cutoff_list:\n",
    "        li = LipidInteraction(trajfile_list, topfile_list=topfile_list, cutoffs=cutoffs, lipid=lipid,\n",
    "                              lipid_atoms=lipid_atoms, nprot=1, timeunit=timeunit,\n",
    "                              save_dir=save_dir, stride=stride)\n",
    "        li.collect_residue_contacts()\n",
    "        li.compute_residue_duration()\n",
    "        li.compute_binding_nodes(print_data=False) # switch print and write to False for cleaner output.\n",
    "        num_of_binding_sites[cutoffs] = len(li.node_list)\n",
    "        duration_avgs[cutoffs] = li.dataset[\"Duration\"].mean()\n",
    "        num_of_contacting_residues[cutoffs] = sum(li.dataset[\"Duration\"]>0)\n",
    "    shutil.rmtree(li.save_dir)\n",
    "    return num_of_binding_sites, duration_avgs, num_of_contacting_residues\n",
    "\n",
    "def graph(cutoff_list, metric_values, ylabel, title, fn):\n",
    "    fig, ax = plt.subplots(1, 1, figsize=(len(cutoff_list)*0.42, 3.6))\n",
    "    ax.scatter(np.arange(len(cutoff_list)), metric_values, s=50, color='red')\n",
    "    ax.set_xticks(np.arange(len(cutoff_list)))\n",
    "    ax.set_xticklabels(cutoff_list, rotation=45, ha='right')\n",
    "    ax.set_xlabel(\"Dual cutoff\")\n",
    "    ax.set_ylabel(ylabel)\n",
    "    ax.set_title(title)\n",
    "    plt.tight_layout()\n",
    "    plt.savefig(fn, dpi=200)\n",
    "    return"
   ]
  },
  {
   "cell_type": "code",
   "execution_count": 11,
   "id": "27b1f202",
   "metadata": {},
   "outputs": [
    {
     "name": "stdout",
     "output_type": "stream",
     "text": [
      "Can't create folder: folder Analysis/PyLipid/Cut-Off_Optimization/POPI already exists\n"
     ]
    },
    {
     "data": {
      "image/png": "[encoded data removed]",
      "text/plain": [
       "<Figure size 432x288 with 1 Axes>"
      ]
     },
     "metadata": {
      "needs_background": "light"
     },
     "output_type": "display_data"
    }
   ],
   "source": [
    "trajfile = \"../Sample_files/centered_step7_1.xtc\"\n",
    "topfile = \"../Sample_files/step6.6_equilibration.gro\"\n",
    "lipids = {\"POPI\":\"C1 C2 C3 PO4\"} #Define lipids and head atoms\n",
    "nprot = 1 #Single protein per system\n",
    "timeunit = \"us\"\n",
    "stride = 10\n",
    "\n",
    "\n",
    "contact_frames = 30  # will only plot data if the contact was formed over ${contact_frames} frames.\n",
    "distance_threshold = 0.65 #Distance to consider contact\n",
    "\n",
    "traj = md.load(trajfile, top=topfile, stride=10)\n",
    "\n",
    "for lipid, headatoms in lipids.items():\n",
    "    try:\n",
    "        os.mkdir(f\"Analysis/PyLipid/Cut-Off_Optimization/{lipid}\")\n",
    "        print(f\"Folder Analysis/PyLipid/Cut-Off_Optimization/{lipid} created\")\n",
    "    except OSError as error:\n",
    "        print(f\"Can't create folder: folder Analysis/PyLipid/Cut-Off_Optimization/{lipid} already exists\")\n",
    "    \n",
    "    lipid_atoms = headatoms\n",
    "    \n",
    "    save_dir = f\"Analysis/PyLipid/Cut-Off_Optimization/{lipid}/test_minimum_dist_{lipid}\"\n",
    "    fig_dir = check_dir(save_dir, \"Figures\", print_info=False)\n",
    "    minimum_distance_set = compute_minimum_distance(traj, lipid, fig_dir, lipid_atoms=lipid_atoms,\n",
    "                                               contact_frames=contact_frames, distance_threshold=distance_threshold)\n",
    "    distance_set = np.concatenate(minimum_distance_set)\n",
    "    num_of_bins = 1000\n",
    "    fig_fn = f\"{save_dir}/dist_distribut_{lipid}.png\"\n",
    "    plot_PDF(distance_set, num_of_bins, fig_fn)"
   ]
  },
  {
   "cell_type": "code",
   "execution_count": 12,
   "id": "7b9a5cc3",
   "metadata": {},
   "outputs": [
    {
     "name": "stdout",
     "output_type": "stream",
     "text": [
      "Creating new director: /home/apmlab/Projectes/mario/Script_devel/Analysis_scripts/Analysis/PyLipid/Cut-Off_Optimization/POPI/test_minimum_dist_POPI/test_cutoffs/Interaction_POPI\n"
     ]
    },
    {
     "name": "stderr",
     "output_type": "stream",
     "text": [
      "COLLECT INTERACTIONS FROM TRAJECTORIES: 100%|█████| 1/1 [00:24<00:00, 24.80s/it]\n",
      "CALCULATE DURATION PER RESIDUE: 100%|█████| 1482/1482 [00:01<00:00, 1188.25it/s]\n"
     ]
    },
    {
     "name": "stdout",
     "output_type": "stream",
     "text": [
      "******************************\n",
      " No binding site detected!!\n",
      "******************************\n"
     ]
    },
    {
     "name": "stderr",
     "output_type": "stream",
     "text": [
      "COLLECT INTERACTIONS FROM TRAJECTORIES: 100%|█████| 1/1 [00:23<00:00, 23.96s/it]\n",
      "CALCULATE DURATION PER RESIDUE: 100%|█████| 1482/1482 [00:01<00:00, 1461.58it/s]\n"
     ]
    },
    {
     "name": "stdout",
     "output_type": "stream",
     "text": [
      "******************************\n",
      " No binding site detected!!\n",
      "******************************\n"
     ]
    },
    {
     "name": "stderr",
     "output_type": "stream",
     "text": [
      "COLLECT INTERACTIONS FROM TRAJECTORIES: 100%|█████| 1/1 [00:24<00:00, 24.14s/it]\n",
      "CALCULATE DURATION PER RESIDUE: 100%|█████| 1482/1482 [00:01<00:00, 1238.81it/s]\n"
     ]
    },
    {
     "name": "stdout",
     "output_type": "stream",
     "text": [
      "******************************\n",
      " No binding site detected!!\n",
      "******************************\n"
     ]
    },
    {
     "name": "stderr",
     "output_type": "stream",
     "text": [
      "COLLECT INTERACTIONS FROM TRAJECTORIES: 100%|█████| 1/1 [00:24<00:00, 24.04s/it]\n",
      "CALCULATE DURATION PER RESIDUE: 100%|█████| 1482/1482 [00:01<00:00, 1380.40it/s]\n"
     ]
    },
    {
     "name": "stdout",
     "output_type": "stream",
     "text": [
      "******************************\n",
      " No binding site detected!!\n",
      "******************************\n"
     ]
    },
    {
     "name": "stderr",
     "output_type": "stream",
     "text": [
      "COLLECT INTERACTIONS FROM TRAJECTORIES: 100%|█████| 1/1 [00:23<00:00, 23.97s/it]\n",
      "CALCULATE DURATION PER RESIDUE: 100%|█████| 1482/1482 [00:01<00:00, 1254.01it/s]\n"
     ]
    },
    {
     "name": "stdout",
     "output_type": "stream",
     "text": [
      "******************************\n",
      " No binding site detected!!\n",
      "******************************\n"
     ]
    },
    {
     "name": "stderr",
     "output_type": "stream",
     "text": [
      "COLLECT INTERACTIONS FROM TRAJECTORIES: 100%|█████| 1/1 [00:23<00:00, 23.94s/it]\n",
      "CALCULATE DURATION PER RESIDUE: 100%|█████| 1482/1482 [00:01<00:00, 1454.43it/s]\n"
     ]
    },
    {
     "name": "stdout",
     "output_type": "stream",
     "text": [
      "******************************\n",
      " No binding site detected!!\n",
      "******************************\n"
     ]
    },
    {
     "name": "stderr",
     "output_type": "stream",
     "text": [
      "COLLECT INTERACTIONS FROM TRAJECTORIES: 100%|█████| 1/1 [00:24<00:00, 24.17s/it]\n",
      "CALCULATE DURATION PER RESIDUE: 100%|█████| 1482/1482 [00:01<00:00, 1479.74it/s]\n"
     ]
    },
    {
     "name": "stdout",
     "output_type": "stream",
     "text": [
      "******************************\n",
      " No binding site detected!!\n",
      "******************************\n"
     ]
    },
    {
     "name": "stderr",
     "output_type": "stream",
     "text": [
      "COLLECT INTERACTIONS FROM TRAJECTORIES: 100%|█████| 1/1 [00:23<00:00, 23.99s/it]\n",
      "CALCULATE DURATION PER RESIDUE: 100%|█████| 1482/1482 [00:01<00:00, 1456.98it/s]\n"
     ]
    },
    {
     "name": "stdout",
     "output_type": "stream",
     "text": [
      "******************************\n",
      " No binding site detected!!\n",
      "******************************\n"
     ]
    },
    {
     "name": "stderr",
     "output_type": "stream",
     "text": [
      "COLLECT INTERACTIONS FROM TRAJECTORIES: 100%|█████| 1/1 [00:24<00:00, 24.19s/it]\n",
      "CALCULATE DURATION PER RESIDUE: 100%|█████| 1482/1482 [00:01<00:00, 1372.37it/s]\n"
     ]
    },
    {
     "name": "stdout",
     "output_type": "stream",
     "text": [
      "******************************\n",
      " No binding site detected!!\n",
      "******************************\n"
     ]
    },
    {
     "name": "stderr",
     "output_type": "stream",
     "text": [
      "COLLECT INTERACTIONS FROM TRAJECTORIES: 100%|█████| 1/1 [00:23<00:00, 23.91s/it]\n",
      "CALCULATE DURATION PER RESIDUE: 100%|█████| 1482/1482 [00:01<00:00, 1392.24it/s]\n"
     ]
    },
    {
     "name": "stdout",
     "output_type": "stream",
     "text": [
      "******************************\n",
      " No binding site detected!!\n",
      "******************************\n"
     ]
    },
    {
     "name": "stderr",
     "output_type": "stream",
     "text": [
      "COLLECT INTERACTIONS FROM TRAJECTORIES: 100%|█████| 1/1 [00:24<00:00, 24.02s/it]\n",
      "CALCULATE DURATION PER RESIDUE: 100%|█████| 1482/1482 [00:01<00:00, 1390.14it/s]\n"
     ]
    },
    {
     "name": "stdout",
     "output_type": "stream",
     "text": [
      "******************************\n",
      " No binding site detected!!\n",
      "******************************\n"
     ]
    },
    {
     "name": "stderr",
     "output_type": "stream",
     "text": [
      "COLLECT INTERACTIONS FROM TRAJECTORIES: 100%|█████| 1/1 [00:23<00:00, 23.97s/it]\n",
      "CALCULATE DURATION PER RESIDUE: 100%|█████| 1482/1482 [00:01<00:00, 1370.76it/s]\n"
     ]
    },
    {
     "name": "stdout",
     "output_type": "stream",
     "text": [
      "******************************\n",
      " No binding site detected!!\n",
      "******************************\n"
     ]
    },
    {
     "name": "stderr",
     "output_type": "stream",
     "text": [
      "COLLECT INTERACTIONS FROM TRAJECTORIES: 100%|█████| 1/1 [00:24<00:00, 24.01s/it]\n",
      "CALCULATE DURATION PER RESIDUE: 100%|█████| 1482/1482 [00:01<00:00, 1369.73it/s]\n"
     ]
    },
    {
     "name": "stdout",
     "output_type": "stream",
     "text": [
      "******************************\n",
      " No binding site detected!!\n",
      "******************************\n"
     ]
    },
    {
     "name": "stderr",
     "output_type": "stream",
     "text": [
      "COLLECT INTERACTIONS FROM TRAJECTORIES: 100%|█████| 1/1 [00:24<00:00, 24.01s/it]\n",
      "CALCULATE DURATION PER RESIDUE: 100%|█████| 1482/1482 [00:01<00:00, 1378.30it/s]\n"
     ]
    },
    {
     "name": "stdout",
     "output_type": "stream",
     "text": [
      "******************************\n",
      " No binding site detected!!\n",
      "******************************\n"
     ]
    },
    {
     "name": "stderr",
     "output_type": "stream",
     "text": [
      "COLLECT INTERACTIONS FROM TRAJECTORIES: 100%|█████| 1/1 [00:24<00:00, 24.08s/it]\n",
      "CALCULATE DURATION PER RESIDUE: 100%|█████| 1482/1482 [00:01<00:00, 1366.99it/s]\n"
     ]
    },
    {
     "name": "stdout",
     "output_type": "stream",
     "text": [
      "******************************\n",
      " No binding site detected!!\n",
      "******************************\n"
     ]
    },
    {
     "name": "stderr",
     "output_type": "stream",
     "text": [
      "COLLECT INTERACTIONS FROM TRAJECTORIES: 100%|█████| 1/1 [00:24<00:00, 24.17s/it]\n",
      "CALCULATE DURATION PER RESIDUE: 100%|█████| 1482/1482 [00:01<00:00, 1368.58it/s]\n"
     ]
    },
    {
     "name": "stdout",
     "output_type": "stream",
     "text": [
      "******************************\n",
      " No binding site detected!!\n",
      "******************************\n"
     ]
    },
    {
     "name": "stderr",
     "output_type": "stream",
     "text": [
      "COLLECT INTERACTIONS FROM TRAJECTORIES: 100%|█████| 1/1 [00:23<00:00, 23.95s/it]\n",
      "CALCULATE DURATION PER RESIDUE: 100%|█████| 1482/1482 [00:01<00:00, 1306.49it/s]\n"
     ]
    },
    {
     "name": "stdout",
     "output_type": "stream",
     "text": [
      "******************************\n",
      " No binding site detected!!\n",
      "******************************\n"
     ]
    },
    {
     "name": "stderr",
     "output_type": "stream",
     "text": [
      "COLLECT INTERACTIONS FROM TRAJECTORIES: 100%|█████| 1/1 [00:23<00:00, 23.91s/it]\n",
      "CALCULATE DURATION PER RESIDUE: 100%|█████| 1482/1482 [00:01<00:00, 1455.56it/s]\n"
     ]
    },
    {
     "name": "stdout",
     "output_type": "stream",
     "text": [
      "******************************\n",
      " No binding site detected!!\n",
      "******************************\n"
     ]
    },
    {
     "name": "stderr",
     "output_type": "stream",
     "text": [
      "COLLECT INTERACTIONS FROM TRAJECTORIES: 100%|█████| 1/1 [00:24<00:00, 24.09s/it]\n",
      "CALCULATE DURATION PER RESIDUE: 100%|█████| 1482/1482 [00:01<00:00, 1430.11it/s]\n",
      "COLLECT INTERACTIONS FROM TRAJECTORIES: 100%|█████| 1/1 [00:24<00:00, 24.17s/it]\n",
      "CALCULATE DURATION PER RESIDUE: 100%|█████| 1482/1482 [00:01<00:00, 1447.18it/s]\n",
      "COLLECT INTERACTIONS FROM TRAJECTORIES: 100%|█████| 1/1 [00:23<00:00, 23.98s/it]\n",
      "CALCULATE DURATION PER RESIDUE: 100%|█████| 1482/1482 [00:01<00:00, 1361.38it/s]\n",
      "COLLECT INTERACTIONS FROM TRAJECTORIES: 100%|█████| 1/1 [00:24<00:00, 24.12s/it]\n",
      "CALCULATE DURATION PER RESIDUE: 100%|█████| 1482/1482 [00:01<00:00, 1459.33it/s]\n",
      "COLLECT INTERACTIONS FROM TRAJECTORIES: 100%|█████| 1/1 [00:24<00:00, 24.00s/it]\n",
      "CALCULATE DURATION PER RESIDUE: 100%|█████| 1482/1482 [00:01<00:00, 1432.61it/s]\n",
      "COLLECT INTERACTIONS FROM TRAJECTORIES: 100%|█████| 1/1 [00:24<00:00, 24.28s/it]\n",
      "CALCULATE DURATION PER RESIDUE: 100%|█████| 1482/1482 [00:01<00:00, 1438.92it/s]\n",
      "COLLECT INTERACTIONS FROM TRAJECTORIES: 100%|█████| 1/1 [00:24<00:00, 24.05s/it]\n",
      "CALCULATE DURATION PER RESIDUE: 100%|█████| 1482/1482 [00:01<00:00, 1360.63it/s]\n",
      "COLLECT INTERACTIONS FROM TRAJECTORIES: 100%|█████| 1/1 [00:24<00:00, 24.09s/it]\n",
      "CALCULATE DURATION PER RESIDUE: 100%|█████| 1482/1482 [00:01<00:00, 1352.71it/s]\n",
      "COLLECT INTERACTIONS FROM TRAJECTORIES: 100%|█████| 1/1 [00:23<00:00, 23.97s/it]\n",
      "CALCULATE DURATION PER RESIDUE: 100%|█████| 1482/1482 [00:01<00:00, 1367.71it/s]\n",
      "COLLECT INTERACTIONS FROM TRAJECTORIES: 100%|█████| 1/1 [00:24<00:00, 24.19s/it]\n",
      "CALCULATE DURATION PER RESIDUE: 100%|█████| 1482/1482 [00:01<00:00, 1395.93it/s]\n",
      "COLLECT INTERACTIONS FROM TRAJECTORIES: 100%|█████| 1/1 [00:23<00:00, 23.90s/it]\n",
      "CALCULATE DURATION PER RESIDUE: 100%|█████| 1482/1482 [00:01<00:00, 1394.83it/s]\n",
      "COLLECT INTERACTIONS FROM TRAJECTORIES: 100%|█████| 1/1 [00:24<00:00, 24.09s/it]\n",
      "CALCULATE DURATION PER RESIDUE: 100%|█████| 1482/1482 [00:01<00:00, 1236.12it/s]\n"
     ]
    },
    {
     "data": {
      "image/png": "[encoded data removed]",
      "text/plain": [
       "<Figure size 907.2x259.2 with 1 Axes>"
      ]
     },
     "metadata": {
      "needs_background": "light"
     },
     "output_type": "display_data"
    },
    {
     "data": {
      "image/png": "[encoded data removed]",
      "text/plain": [
       "<Figure size 907.2x259.2 with 1 Axes>"
      ]
     },
     "metadata": {
      "needs_background": "light"
     },
     "output_type": "display_data"
    },
    {
     "data": {
      "image/png": "[encoded data removed]",
      "text/plain": [
       "<Figure size 907.2x259.2 with 1 Axes>"
      ]
     },
     "metadata": {
      "needs_background": "light"
     },
     "output_type": "display_data"
    }
   ],
   "source": [
    "# Check \n",
    "lower_cutoff = [0.40, 0.425, 0.45, 0.475, 0.5]\n",
    "upper_cutoff = [0.55, 0.6, 0.65, 0.7, 0.75, 0.8]\n",
    "cutoff_list = list(product(lower_cutoff, upper_cutoff))\n",
    "stride = 100\n",
    "\n",
    "for lipid, lipidatoms in lipids.items():\n",
    "    save_dir = f\"Analysis/PyLipid/Cut-Off_Optimization/{lipid}/test_minimum_dist_{lipid}/test_cutoffs\"\n",
    "    \n",
    "    num_of_binding_sites, duration_avgs, num_of_contacting_residues = test_cutoffs(\n",
    "                                     cutoff_list, trajfile, topfile, lipid, lipidatoms,\n",
    "                                     nprot=nprot, stride=stride, save_dir=save_dir, timeunit=timeunit)\n",
    "\n",
    "\n",
    "    test_data = {\"num_of_binding_sites\": num_of_binding_sites,\n",
    "                 \"duration_avgs\": duration_avgs,\n",
    "                 \"num_of_contacting_residues\": num_of_contacting_residues,\n",
    "                 \"test_cutoff_list\": cutoff_list}\n",
    "\n",
    "    with open(f\"{save_dir}/test_cutoff_data_{lipid}.pickle\", \"wb\") as f:\n",
    "        pickle.dump(test_data, f, 2)\n",
    "\n",
    "    graph(cutoff_list, [num_of_binding_sites[cutoffs] for cutoffs in cutoff_list],\n",
    "          \"num. of binding sites\", lipid, f\"{save_dir}/test_cutoff_num_of_bs_{lipid}.png\")\n",
    "\n",
    "    graph(cutoff_list, [duration_avgs[cutoffs] for cutoffs in cutoff_list],\n",
    "          f\"Durations ({timeunit})\", lipid, f\"{save_dir}/test_cutoff_durations_{lipid}.png\")\n",
    "\n",
    "    graph(cutoff_list, [num_of_contacting_residues[cutoffs] for cutoffs in cutoff_list],\n",
    "          \"num. of contacting residues\", lipid,\n",
    "          f\"{save_dir}/test_cutoff_num_of_contacting_residues_{lipid}.png\")"
   ]
  },
  {
   "cell_type": "code",
   "execution_count": null,
   "id": "854221ab",
   "metadata": {},
   "outputs": [],
   "source": []
  }
 ],
 "metadata": {
  "kernelspec": {
   "display_name": "Python 3 (ipykernel)",
   "language": "python",
   "name": "python3"
  },
  "language_info": {
   "codemirror_mode": {
    "name": "ipython",
    "version": 3
   },
   "file_extension": ".py",
   "mimetype": "text/x-python",
   "name": "python",
   "nbconvert_exporter": "python",
   "pygments_lexer": "ipython3",
   "version": "3.9.7"
  }
 },
 "nbformat": 4,
 "nbformat_minor": 5
}
